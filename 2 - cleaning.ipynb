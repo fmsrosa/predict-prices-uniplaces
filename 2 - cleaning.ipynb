{
 "cells": [
  {
   "cell_type": "markdown",
   "id": "8b911a8d-7b0a-4f6d-8c81-5d85b5496ef0",
   "metadata": {},
   "source": [
    "## Context\n",
    "\n",
    "We scrapped the data from the first 20 pages of listings of private rooms in Lisbon from Uniplaces.\n",
    "\n",
    "We have the data in a dataframe. However, the dataframe contains a high number of variables.\n",
    "We will clean it a bit and at the same time create an abridged version (dropping variables that don't seem very interesting), resulting in two dataframes."
   ]
  },
  {
   "cell_type": "markdown",
   "id": "fd9ccb20-6274-4536-b4da-10b4c36fff20",
   "metadata": {},
   "source": [
    "Import libraries"
   ]
  },
  {
   "cell_type": "code",
   "execution_count": 1582,
   "id": "0015aa2d-db7b-45e2-b61b-02ee1df1f878",
   "metadata": {},
   "outputs": [],
   "source": [
    "import numpy as np\n",
    "import pandas as pd\n",
    "pd.set_option(\"display.max_columns\", None)"
   ]
  },
  {
   "cell_type": "markdown",
   "id": "3c57cb45-850e-4f52-bacd-c10210c2c481",
   "metadata": {},
   "source": [
    "## First impressions"
   ]
  },
  {
   "cell_type": "code",
   "execution_count": 1583,
   "id": "5ccb3e22-29ad-4c03-831b-22550be8c848",
   "metadata": {},
   "outputs": [],
   "source": [
    "df = pd.read_csv(\"scraped_data/all_scraping.csv\", index_col=0)"
   ]
  },
  {
   "cell_type": "code",
   "execution_count": 1584,
   "id": "f2ca075e-bfc1-4ed6-ada8-dbc85ba5969a",
   "metadata": {},
   "outputs": [
    {
     "name": "stdout",
     "output_type": "stream",
     "text": [
      "(959, 190)\n"
     ]
    },
    {
     "data": {
      "text/html": [
       "<div>\n",
       "<style scoped>\n",
       "    .dataframe tbody tr th:only-of-type {\n",
       "        vertical-align: middle;\n",
       "    }\n",
       "\n",
       "    .dataframe tbody tr th {\n",
       "        vertical-align: top;\n",
       "    }\n",
       "\n",
       "    .dataframe thead th {\n",
       "        text-align: right;\n",
       "    }\n",
       "</style>\n",
       "<table border=\"1\" class=\"dataframe\">\n",
       "  <thead>\n",
       "    <tr style=\"text-align: right;\">\n",
       "      <th></th>\n",
       "      <th>title</th>\n",
       "      <th>photo_url</th>\n",
       "      <th>n_thumbnails</th>\n",
       "      <th>rating</th>\n",
       "      <th>n_reviews</th>\n",
       "      <th>type</th>\n",
       "      <th>n_people</th>\n",
       "      <th>n_bedrooms</th>\n",
       "      <th>n_bathrooms</th>\n",
       "      <th>price</th>\n",
       "      <th>priceCurrency</th>\n",
       "      <th>availabilityStarts</th>\n",
       "      <th>availability</th>\n",
       "      <th>url</th>\n",
       "      <th>Occasional overnight guests</th>\n",
       "      <th>Pets</th>\n",
       "      <th>Smoking</th>\n",
       "      <th>1 Double bed</th>\n",
       "      <th>Wardrobe</th>\n",
       "      <th>Desk</th>\n",
       "      <th>Chairs</th>\n",
       "      <th>Towels</th>\n",
       "      <th>Bed linen</th>\n",
       "      <th>Window</th>\n",
       "      <th>Sofa</th>\n",
       "      <th>Sofa bed</th>\n",
       "      <th>Balcony</th>\n",
       "      <th>Contract</th>\n",
       "      <th>Bills</th>\n",
       "      <th>Cancellation policy</th>\n",
       "      <th>Security deposit</th>\n",
       "      <th>Extra per tenant</th>\n",
       "      <th>Cleaning Frequency</th>\n",
       "      <th>Minimum stay</th>\n",
       "      <th>neighboorhood</th>\n",
       "      <th>n_Bathrooms</th>\n",
       "      <th>n_Kitchens</th>\n",
       "      <th>n_Living rooms</th>\n",
       "      <th>Wi-Fi</th>\n",
       "      <th>Cable Tv</th>\n",
       "      <th>Central heating</th>\n",
       "      <th>Air conditioning</th>\n",
       "      <th>Outdoor area</th>\n",
       "      <th>Towels &amp; bed linen</th>\n",
       "      <th>Elevator</th>\n",
       "      <th>Accessibility</th>\n",
       "      <th>Toilet</th>\n",
       "      <th>Sink</th>\n",
       "      <th>Shower</th>\n",
       "      <th>Bathtub</th>\n",
       "      <th>Fridge</th>\n",
       "      <th>Freezer</th>\n",
       "      <th>Stove</th>\n",
       "      <th>Oven</th>\n",
       "      <th>Microwave</th>\n",
       "      <th>Washing machine</th>\n",
       "      <th>Dishes &amp; cutlery</th>\n",
       "      <th>Pots &amp; pans</th>\n",
       "      <th>Coffee table</th>\n",
       "      <th>Table</th>\n",
       "      <th>Tv</th>\n",
       "      <th>Chest of drawers</th>\n",
       "      <th>Door lock</th>\n",
       "      <th>Dryer</th>\n",
       "      <th>Dishwasher</th>\n",
       "      <th>1 Single bed</th>\n",
       "      <th>Admin fee</th>\n",
       "      <th>Floor plan - 100 m2</th>\n",
       "      <th>Female, 26-30 years old</th>\n",
       "      <th>Professional</th>\n",
       "      <th>Lives with family</th>\n",
       "      <th>Has pets</th>\n",
       "      <th>Bedroom area 8m 2</th>\n",
       "      <th>Short term penalty</th>\n",
       "      <th>Floor plan - 20 m2</th>\n",
       "      <th>Postgraduates</th>\n",
       "      <th>Floor plan - 110 m2</th>\n",
       "      <th>Bedroom area 10m 2</th>\n",
       "      <th>Female, 40+ years old</th>\n",
       "      <th>Floor plan - 220 m2</th>\n",
       "      <th>Floor plan - 25 m2</th>\n",
       "      <th>Private bathroom</th>\n",
       "      <th>Bathroom</th>\n",
       "      <th>Bedroom area 1m 2</th>\n",
       "      <th>Floor plan - 105 m2</th>\n",
       "      <th>Floor plan - 5 m2</th>\n",
       "      <th>Floor plan - 4 m2</th>\n",
       "      <th>Floor plan - 13 m2</th>\n",
       "      <th>2 Single beds</th>\n",
       "      <th>Full-time employees</th>\n",
       "      <th>Floor plan - 8 m2</th>\n",
       "      <th>Floor plan - 15 m2</th>\n",
       "      <th>Bedroom area 25m 2</th>\n",
       "      <th>Female only</th>\n",
       "      <th>Bedroom area 9m 2</th>\n",
       "      <th>n_WCs</th>\n",
       "      <th>Floor plan - 10 m2</th>\n",
       "      <th>Undergraduates</th>\n",
       "      <th>Floor plan - 240 m2</th>\n",
       "      <th>Bedroom area 20m 2</th>\n",
       "      <th>Bedroom area 26m 2</th>\n",
       "      <th>Floor plan - 12 m2</th>\n",
       "      <th>Bedroom area 14m 2</th>\n",
       "      <th>n_Dining Rooms</th>\n",
       "      <th>Floor plan - 90 m2</th>\n",
       "      <th>Bedroom area 13m 2</th>\n",
       "      <th>Bedroom area 24m 2</th>\n",
       "      <th>Bedroom area 12m 2</th>\n",
       "      <th>Floor plan - 82 m2</th>\n",
       "      <th>Floor plan - 6 m2</th>\n",
       "      <th>Bedroom area 21m 2</th>\n",
       "      <th>Bedroom area 11m 2</th>\n",
       "      <th>Floor plan - 9 m2</th>\n",
       "      <th>Floor plan - 135 m2</th>\n",
       "      <th>Floor plan - 150 m2</th>\n",
       "      <th>Domestic students</th>\n",
       "      <th>Floor plan - 325 m2</th>\n",
       "      <th>Bedroom area 19m 2</th>\n",
       "      <th>The landlord didn’t provide any amenities for the Bathroom.</th>\n",
       "      <th>Floor plan - 280 m2</th>\n",
       "      <th>Floor plan - 40 m2</th>\n",
       "      <th>Bedroom area 18m 2</th>\n",
       "      <th>Floor plan - 160 m2</th>\n",
       "      <th>Floor plan - 14 m2</th>\n",
       "      <th>Floor plan - 18 m2</th>\n",
       "      <th>Floor plan - 85 m2</th>\n",
       "      <th>Male only</th>\n",
       "      <th>Requirements</th>\n",
       "      <th>n_Bathroom No photoss</th>\n",
       "      <th>Bedroom area 17m 2</th>\n",
       "      <th>Bedroom area 15m 2</th>\n",
       "      <th>Floor plan - 165 m2</th>\n",
       "      <th>Floor plan - 16 m2</th>\n",
       "      <th>International students</th>\n",
       "      <th>Floor plan - 400 m2</th>\n",
       "      <th>Female, 18-25 years old</th>\n",
       "      <th>Undergraduate student</th>\n",
       "      <th>Floor plan - 126 m2</th>\n",
       "      <th>Floor plan - 30 m2</th>\n",
       "      <th>Male, 31-40 years old</th>\n",
       "      <th>Floor plan - 75 m2</th>\n",
       "      <th>Floor plan - 120 m2</th>\n",
       "      <th>Male, 40+ years old</th>\n",
       "      <th>Floor plan - 76 m2</th>\n",
       "      <th>Floor plan - 180 m2</th>\n",
       "      <th>Floor plan - 48 m2</th>\n",
       "      <th>Bedroom area 16m 2</th>\n",
       "      <th>n_Living room No photoss</th>\n",
       "      <th>Floor plan - 50 m2</th>\n",
       "      <th>Floor plan - 70 m2</th>\n",
       "      <th>Bedroom area 3m 2</th>\n",
       "      <th>Floor plan - 104 m2</th>\n",
       "      <th>Floor plan - 210 m2</th>\n",
       "      <th>Enclosed balcony</th>\n",
       "      <th>Floor plan - 98 m2</th>\n",
       "      <th>Female</th>\n",
       "      <th>Floor plan - 170 m2</th>\n",
       "      <th>Bedroom area 7m 2</th>\n",
       "      <th>Floor plan - 7 m2</th>\n",
       "      <th>Bedroom area 22m 2</th>\n",
       "      <th>Floor plan - 96 m2</th>\n",
       "      <th>Floor plan - 140 m2</th>\n",
       "      <th>Floor plan - 55 m2</th>\n",
       "      <th>Floor plan - 95 m2</th>\n",
       "      <th>Bedroom area 6m 2</th>\n",
       "      <th>Floor plan - 200 m2</th>\n",
       "      <th>Floor plan - 60 m2</th>\n",
       "      <th>Floor plan - 11 m2</th>\n",
       "      <th>n_WC No photoss</th>\n",
       "      <th>Floor plan - 130 m2</th>\n",
       "      <th>Bedroom area 32m 2</th>\n",
       "      <th>Female, 31-40 years old</th>\n",
       "      <th>Male</th>\n",
       "      <th>Floor plan - 350 m2</th>\n",
       "      <th>Floor plan - 35 m2</th>\n",
       "      <th>2 Double beds</th>\n",
       "      <th>Floor plan - 190 m2</th>\n",
       "      <th>Postgraduate student</th>\n",
       "      <th>Floor plan - 21 m2</th>\n",
       "      <th>Bedroom area 30m 2</th>\n",
       "      <th>Male, 18-25 years old</th>\n",
       "      <th>4 Single beds</th>\n",
       "      <th>Floor plan - 65 m2</th>\n",
       "      <th>Floor plan - 17 m2</th>\n",
       "      <th>Holding deposit</th>\n",
       "      <th>Floor plan - 300 m2</th>\n",
       "      <th>3 Single beds</th>\n",
       "      <th>Floor plan - 250 m2</th>\n",
       "      <th>Floor plan - 106 m2</th>\n",
       "      <th>Floor plan - 2 m2</th>\n",
       "    </tr>\n",
       "  </thead>\n",
       "  <tbody>\n",
       "    <tr>\n",
       "      <th>0</th>\n",
       "      <td>Huge double bedroom in an elegant 5-bedroom fl...</td>\n",
       "      <td>https://cdn-static-new.uniplaces.com/property-...</td>\n",
       "      <td>31</td>\n",
       "      <td>0</td>\n",
       "      <td>0</td>\n",
       "      <td>Double bedroom</td>\n",
       "      <td>Up to 2 people</td>\n",
       "      <td>5-bedroom apartment</td>\n",
       "      <td>3 bathrooms</td>\n",
       "      <td>750</td>\n",
       "      <td>EUR</td>\n",
       "      <td>Thu Jan 13 2022 00:00:00 GMT+0000</td>\n",
       "      <td>OnlineOnly</td>\n",
       "      <td>https://www.uniplaces.com/accommodation/lisbon...</td>\n",
       "      <td>True</td>\n",
       "      <td>False</td>\n",
       "      <td>False</td>\n",
       "      <td>True</td>\n",
       "      <td>True</td>\n",
       "      <td>True</td>\n",
       "      <td>1</td>\n",
       "      <td>True</td>\n",
       "      <td>True</td>\n",
       "      <td>2</td>\n",
       "      <td>1</td>\n",
       "      <td>0</td>\n",
       "      <td>1</td>\n",
       "      <td>Fortnightly</td>\n",
       "      <td>Included</td>\n",
       "      <td>Moderate</td>\n",
       "      <td>Equal to first rent</td>\n",
       "      <td>€200/month</td>\n",
       "      <td>None</td>\n",
       "      <td>27 nights</td>\n",
       "      <td>Marquês de Pombal</td>\n",
       "      <td>3.0</td>\n",
       "      <td>1.0</td>\n",
       "      <td>1.0</td>\n",
       "      <td>1.0</td>\n",
       "      <td>1.0</td>\n",
       "      <td>1.0</td>\n",
       "      <td>1.0</td>\n",
       "      <td>1.0</td>\n",
       "      <td>1.0</td>\n",
       "      <td>1.0</td>\n",
       "      <td>0.0</td>\n",
       "      <td>3</td>\n",
       "      <td>3</td>\n",
       "      <td>2</td>\n",
       "      <td>1</td>\n",
       "      <td>1.0</td>\n",
       "      <td>1.0</td>\n",
       "      <td>1.0</td>\n",
       "      <td>1.0</td>\n",
       "      <td>1.0</td>\n",
       "      <td>1.0</td>\n",
       "      <td>1.0</td>\n",
       "      <td>1.0</td>\n",
       "      <td>1.0</td>\n",
       "      <td>1.0</td>\n",
       "      <td>1</td>\n",
       "      <td>NaN</td>\n",
       "      <td>NaN</td>\n",
       "      <td>NaN</td>\n",
       "      <td>NaN</td>\n",
       "      <td>NaN</td>\n",
       "      <td>NaN</td>\n",
       "      <td>NaN</td>\n",
       "      <td>NaN</td>\n",
       "      <td>NaN</td>\n",
       "      <td>NaN</td>\n",
       "      <td>NaN</td>\n",
       "      <td>NaN</td>\n",
       "      <td>NaN</td>\n",
       "      <td>NaN</td>\n",
       "      <td>NaN</td>\n",
       "      <td>NaN</td>\n",
       "      <td>NaN</td>\n",
       "      <td>NaN</td>\n",
       "      <td>NaN</td>\n",
       "      <td>NaN</td>\n",
       "      <td>NaN</td>\n",
       "      <td>NaN</td>\n",
       "      <td>NaN</td>\n",
       "      <td>NaN</td>\n",
       "      <td>NaN</td>\n",
       "      <td>NaN</td>\n",
       "      <td>NaN</td>\n",
       "      <td>NaN</td>\n",
       "      <td>NaN</td>\n",
       "      <td>NaN</td>\n",
       "      <td>NaN</td>\n",
       "      <td>NaN</td>\n",
       "      <td>NaN</td>\n",
       "      <td>NaN</td>\n",
       "      <td>NaN</td>\n",
       "      <td>NaN</td>\n",
       "      <td>NaN</td>\n",
       "      <td>NaN</td>\n",
       "      <td>NaN</td>\n",
       "      <td>NaN</td>\n",
       "      <td>NaN</td>\n",
       "      <td>NaN</td>\n",
       "      <td>NaN</td>\n",
       "      <td>NaN</td>\n",
       "      <td>NaN</td>\n",
       "      <td>NaN</td>\n",
       "      <td>NaN</td>\n",
       "      <td>NaN</td>\n",
       "      <td>NaN</td>\n",
       "      <td>NaN</td>\n",
       "      <td>NaN</td>\n",
       "      <td>NaN</td>\n",
       "      <td>NaN</td>\n",
       "      <td>NaN</td>\n",
       "      <td>NaN</td>\n",
       "      <td>NaN</td>\n",
       "      <td>NaN</td>\n",
       "      <td>NaN</td>\n",
       "      <td>NaN</td>\n",
       "      <td>NaN</td>\n",
       "      <td>NaN</td>\n",
       "      <td>NaN</td>\n",
       "      <td>NaN</td>\n",
       "      <td>NaN</td>\n",
       "      <td>NaN</td>\n",
       "      <td>NaN</td>\n",
       "      <td>NaN</td>\n",
       "      <td>NaN</td>\n",
       "      <td>NaN</td>\n",
       "      <td>NaN</td>\n",
       "      <td>NaN</td>\n",
       "      <td>NaN</td>\n",
       "      <td>NaN</td>\n",
       "      <td>NaN</td>\n",
       "      <td>NaN</td>\n",
       "      <td>NaN</td>\n",
       "      <td>NaN</td>\n",
       "      <td>NaN</td>\n",
       "      <td>NaN</td>\n",
       "      <td>NaN</td>\n",
       "      <td>NaN</td>\n",
       "      <td>NaN</td>\n",
       "      <td>NaN</td>\n",
       "      <td>NaN</td>\n",
       "      <td>NaN</td>\n",
       "      <td>NaN</td>\n",
       "      <td>NaN</td>\n",
       "      <td>NaN</td>\n",
       "      <td>NaN</td>\n",
       "      <td>NaN</td>\n",
       "      <td>NaN</td>\n",
       "      <td>NaN</td>\n",
       "      <td>NaN</td>\n",
       "      <td>NaN</td>\n",
       "      <td>NaN</td>\n",
       "      <td>NaN</td>\n",
       "      <td>NaN</td>\n",
       "      <td>NaN</td>\n",
       "      <td>NaN</td>\n",
       "      <td>NaN</td>\n",
       "      <td>NaN</td>\n",
       "      <td>NaN</td>\n",
       "      <td>NaN</td>\n",
       "      <td>NaN</td>\n",
       "      <td>NaN</td>\n",
       "      <td>NaN</td>\n",
       "      <td>NaN</td>\n",
       "      <td>NaN</td>\n",
       "      <td>NaN</td>\n",
       "      <td>NaN</td>\n",
       "      <td>NaN</td>\n",
       "      <td>NaN</td>\n",
       "      <td>NaN</td>\n",
       "      <td>NaN</td>\n",
       "      <td>NaN</td>\n",
       "      <td>NaN</td>\n",
       "      <td>NaN</td>\n",
       "      <td>NaN</td>\n",
       "      <td>NaN</td>\n",
       "      <td>NaN</td>\n",
       "      <td>NaN</td>\n",
       "      <td>NaN</td>\n",
       "      <td>NaN</td>\n",
       "      <td>NaN</td>\n",
       "      <td>NaN</td>\n",
       "      <td>NaN</td>\n",
       "      <td>NaN</td>\n",
       "      <td>NaN</td>\n",
       "      <td>NaN</td>\n",
       "    </tr>\n",
       "    <tr>\n",
       "      <th>1</th>\n",
       "      <td>Large double bedroom close to the city center</td>\n",
       "      <td>https://cdn-static-new.uniplaces.com/property-...</td>\n",
       "      <td>6</td>\n",
       "      <td>0</td>\n",
       "      <td>0</td>\n",
       "      <td>Double bedroom</td>\n",
       "      <td>Up to 2 people</td>\n",
       "      <td>7-bedroom apartment</td>\n",
       "      <td>1 Bathroom</td>\n",
       "      <td>440</td>\n",
       "      <td>EUR</td>\n",
       "      <td>Wed Jan 12 2022 00:00:00 GMT+0000</td>\n",
       "      <td>OnlineOnly</td>\n",
       "      <td>https://www.uniplaces.com/accommodation/lisbon...</td>\n",
       "      <td>False</td>\n",
       "      <td>False</td>\n",
       "      <td>False</td>\n",
       "      <td>True</td>\n",
       "      <td>NaN</td>\n",
       "      <td>NaN</td>\n",
       "      <td>NaN</td>\n",
       "      <td>NaN</td>\n",
       "      <td>NaN</td>\n",
       "      <td>1</td>\n",
       "      <td>True</td>\n",
       "      <td>False</td>\n",
       "      <td>0</td>\n",
       "      <td>Monthly</td>\n",
       "      <td>Some included</td>\n",
       "      <td>Moderate</td>\n",
       "      <td>€640</td>\n",
       "      <td>€90/month</td>\n",
       "      <td>Weekly</td>\n",
       "      <td>135 nights</td>\n",
       "      <td>Saldanha</td>\n",
       "      <td>1.0</td>\n",
       "      <td>1.0</td>\n",
       "      <td>NaN</td>\n",
       "      <td>1.0</td>\n",
       "      <td>NaN</td>\n",
       "      <td>NaN</td>\n",
       "      <td>NaN</td>\n",
       "      <td>0.0</td>\n",
       "      <td>NaN</td>\n",
       "      <td>NaN</td>\n",
       "      <td>0.0</td>\n",
       "      <td>1</td>\n",
       "      <td>1</td>\n",
       "      <td>0</td>\n",
       "      <td>1</td>\n",
       "      <td>1.0</td>\n",
       "      <td>1.0</td>\n",
       "      <td>1.0</td>\n",
       "      <td>NaN</td>\n",
       "      <td>NaN</td>\n",
       "      <td>1.0</td>\n",
       "      <td>NaN</td>\n",
       "      <td>NaN</td>\n",
       "      <td>NaN</td>\n",
       "      <td>NaN</td>\n",
       "      <td>False</td>\n",
       "      <td>True</td>\n",
       "      <td>True</td>\n",
       "      <td>0.0</td>\n",
       "      <td>0.0</td>\n",
       "      <td>NaN</td>\n",
       "      <td>NaN</td>\n",
       "      <td>NaN</td>\n",
       "      <td>NaN</td>\n",
       "      <td>NaN</td>\n",
       "      <td>NaN</td>\n",
       "      <td>NaN</td>\n",
       "      <td>NaN</td>\n",
       "      <td>NaN</td>\n",
       "      <td>NaN</td>\n",
       "      <td>NaN</td>\n",
       "      <td>NaN</td>\n",
       "      <td>NaN</td>\n",
       "      <td>NaN</td>\n",
       "      <td>NaN</td>\n",
       "      <td>NaN</td>\n",
       "      <td>NaN</td>\n",
       "      <td>NaN</td>\n",
       "      <td>NaN</td>\n",
       "      <td>NaN</td>\n",
       "      <td>NaN</td>\n",
       "      <td>NaN</td>\n",
       "      <td>NaN</td>\n",
       "      <td>NaN</td>\n",
       "      <td>NaN</td>\n",
       "      <td>NaN</td>\n",
       "      <td>NaN</td>\n",
       "      <td>NaN</td>\n",
       "      <td>NaN</td>\n",
       "      <td>NaN</td>\n",
       "      <td>NaN</td>\n",
       "      <td>NaN</td>\n",
       "      <td>NaN</td>\n",
       "      <td>NaN</td>\n",
       "      <td>NaN</td>\n",
       "      <td>NaN</td>\n",
       "      <td>NaN</td>\n",
       "      <td>NaN</td>\n",
       "      <td>NaN</td>\n",
       "      <td>NaN</td>\n",
       "      <td>NaN</td>\n",
       "      <td>NaN</td>\n",
       "      <td>NaN</td>\n",
       "      <td>NaN</td>\n",
       "      <td>NaN</td>\n",
       "      <td>NaN</td>\n",
       "      <td>NaN</td>\n",
       "      <td>NaN</td>\n",
       "      <td>NaN</td>\n",
       "      <td>NaN</td>\n",
       "      <td>NaN</td>\n",
       "      <td>NaN</td>\n",
       "      <td>NaN</td>\n",
       "      <td>NaN</td>\n",
       "      <td>NaN</td>\n",
       "      <td>NaN</td>\n",
       "      <td>NaN</td>\n",
       "      <td>NaN</td>\n",
       "      <td>NaN</td>\n",
       "      <td>NaN</td>\n",
       "      <td>NaN</td>\n",
       "      <td>NaN</td>\n",
       "      <td>NaN</td>\n",
       "      <td>NaN</td>\n",
       "      <td>NaN</td>\n",
       "      <td>NaN</td>\n",
       "      <td>NaN</td>\n",
       "      <td>NaN</td>\n",
       "      <td>NaN</td>\n",
       "      <td>NaN</td>\n",
       "      <td>NaN</td>\n",
       "      <td>NaN</td>\n",
       "      <td>NaN</td>\n",
       "      <td>NaN</td>\n",
       "      <td>NaN</td>\n",
       "      <td>NaN</td>\n",
       "      <td>NaN</td>\n",
       "      <td>NaN</td>\n",
       "      <td>NaN</td>\n",
       "      <td>NaN</td>\n",
       "      <td>NaN</td>\n",
       "      <td>NaN</td>\n",
       "      <td>NaN</td>\n",
       "      <td>NaN</td>\n",
       "      <td>NaN</td>\n",
       "      <td>NaN</td>\n",
       "      <td>NaN</td>\n",
       "      <td>NaN</td>\n",
       "      <td>NaN</td>\n",
       "      <td>NaN</td>\n",
       "      <td>NaN</td>\n",
       "      <td>NaN</td>\n",
       "      <td>NaN</td>\n",
       "      <td>NaN</td>\n",
       "      <td>NaN</td>\n",
       "      <td>NaN</td>\n",
       "      <td>NaN</td>\n",
       "      <td>NaN</td>\n",
       "      <td>NaN</td>\n",
       "      <td>NaN</td>\n",
       "      <td>NaN</td>\n",
       "      <td>NaN</td>\n",
       "      <td>NaN</td>\n",
       "      <td>NaN</td>\n",
       "      <td>NaN</td>\n",
       "      <td>NaN</td>\n",
       "      <td>NaN</td>\n",
       "      <td>NaN</td>\n",
       "      <td>NaN</td>\n",
       "      <td>NaN</td>\n",
       "      <td>NaN</td>\n",
       "      <td>NaN</td>\n",
       "      <td>NaN</td>\n",
       "      <td>NaN</td>\n",
       "      <td>NaN</td>\n",
       "      <td>NaN</td>\n",
       "      <td>NaN</td>\n",
       "      <td>NaN</td>\n",
       "      <td>NaN</td>\n",
       "      <td>NaN</td>\n",
       "      <td>NaN</td>\n",
       "      <td>NaN</td>\n",
       "      <td>NaN</td>\n",
       "      <td>NaN</td>\n",
       "      <td>NaN</td>\n",
       "    </tr>\n",
       "  </tbody>\n",
       "</table>\n",
       "</div>"
      ],
      "text/plain": [
       "                                               title  \\\n",
       "0  Huge double bedroom in an elegant 5-bedroom fl...   \n",
       "1      Large double bedroom close to the city center   \n",
       "\n",
       "                                           photo_url n_thumbnails  rating  \\\n",
       "0  https://cdn-static-new.uniplaces.com/property-...           31       0   \n",
       "1  https://cdn-static-new.uniplaces.com/property-...            6       0   \n",
       "\n",
       "  n_reviews            type        n_people           n_bedrooms  n_bathrooms  \\\n",
       "0         0  Double bedroom  Up to 2 people  5-bedroom apartment  3 bathrooms   \n",
       "1         0  Double bedroom  Up to 2 people  7-bedroom apartment   1 Bathroom   \n",
       "\n",
       "   price priceCurrency                 availabilityStarts availability  \\\n",
       "0    750           EUR  Thu Jan 13 2022 00:00:00 GMT+0000   OnlineOnly   \n",
       "1    440           EUR  Wed Jan 12 2022 00:00:00 GMT+0000   OnlineOnly   \n",
       "\n",
       "                                                 url  \\\n",
       "0  https://www.uniplaces.com/accommodation/lisbon...   \n",
       "1  https://www.uniplaces.com/accommodation/lisbon...   \n",
       "\n",
       "   Occasional overnight guests   Pets  Smoking 1 Double bed Wardrobe  Desk  \\\n",
       "0                         True  False    False         True     True  True   \n",
       "1                        False  False    False         True      NaN   NaN   \n",
       "\n",
       "  Chairs Towels Bed linen Window  Sofa Sofa bed Balcony     Contract  \\\n",
       "0      1   True      True      2     1        0       1  Fortnightly   \n",
       "1    NaN    NaN       NaN      1  True    False       0      Monthly   \n",
       "\n",
       "           Bills Cancellation policy     Security deposit Extra per tenant  \\\n",
       "0       Included            Moderate  Equal to first rent       €200/month   \n",
       "1  Some included            Moderate                 €640        €90/month   \n",
       "\n",
       "  Cleaning Frequency Minimum stay      neighboorhood  n_Bathrooms  n_Kitchens  \\\n",
       "0               None    27 nights  Marquês de Pombal          3.0         1.0   \n",
       "1             Weekly   135 nights           Saldanha          1.0         1.0   \n",
       "\n",
       "   n_Living rooms  Wi-Fi  Cable Tv  Central heating  Air conditioning  \\\n",
       "0             1.0    1.0       1.0              1.0               1.0   \n",
       "1             NaN    1.0       NaN              NaN               NaN   \n",
       "\n",
       "   Outdoor area  Towels & bed linen  Elevator  Accessibility Toilet Sink  \\\n",
       "0           1.0                 1.0       1.0            0.0      3    3   \n",
       "1           0.0                 NaN       NaN            0.0      1    1   \n",
       "\n",
       "  Shower Bathtub  Fridge  Freezer  Stove  Oven  Microwave  Washing machine  \\\n",
       "0      2       1     1.0      1.0    1.0   1.0        1.0              1.0   \n",
       "1      0       1     1.0      1.0    1.0   NaN        NaN              1.0   \n",
       "\n",
       "   Dishes & cutlery  Pots & pans  Coffee table  Table     Tv Chest of drawers  \\\n",
       "0               1.0          1.0           1.0    1.0      1              NaN   \n",
       "1               NaN          NaN           NaN    NaN  False             True   \n",
       "\n",
       "  Door lock  Dryer  Dishwasher 1 Single bed Admin fee  Floor plan - 100 m2  \\\n",
       "0       NaN    NaN         NaN          NaN       NaN                  NaN   \n",
       "1      True    0.0         0.0          NaN       NaN                  NaN   \n",
       "\n",
       "  Female, 26-30 years old Professional Lives with family Has pets  \\\n",
       "0                     NaN          NaN               NaN      NaN   \n",
       "1                     NaN          NaN               NaN      NaN   \n",
       "\n",
       "  Bedroom area 8m 2 Short term penalty  Floor plan - 20 m2 Postgraduates  \\\n",
       "0               NaN                NaN                 NaN           NaN   \n",
       "1               NaN                NaN                 NaN           NaN   \n",
       "\n",
       "   Floor plan - 110 m2 Bedroom area 10m 2 Female, 40+ years old  \\\n",
       "0                  NaN                NaN                   NaN   \n",
       "1                  NaN                NaN                   NaN   \n",
       "\n",
       "   Floor plan - 220 m2  Floor plan - 25 m2 Private bathroom Bathroom  \\\n",
       "0                  NaN                 NaN              NaN      NaN   \n",
       "1                  NaN                 NaN              NaN      NaN   \n",
       "\n",
       "  Bedroom area 1m 2  Floor plan - 105 m2  Floor plan - 5 m2  \\\n",
       "0               NaN                  NaN                NaN   \n",
       "1               NaN                  NaN                NaN   \n",
       "\n",
       "   Floor plan - 4 m2  Floor plan - 13 m2 2 Single beds Full-time employees  \\\n",
       "0                NaN                 NaN           NaN                 NaN   \n",
       "1                NaN                 NaN           NaN                 NaN   \n",
       "\n",
       "   Floor plan - 8 m2  Floor plan - 15 m2 Bedroom area 25m 2 Female only  \\\n",
       "0                NaN                 NaN                NaN         NaN   \n",
       "1                NaN                 NaN                NaN         NaN   \n",
       "\n",
       "  Bedroom area 9m 2  n_WCs  Floor plan - 10 m2 Undergraduates  \\\n",
       "0               NaN    NaN                 NaN            NaN   \n",
       "1               NaN    NaN                 NaN            NaN   \n",
       "\n",
       "   Floor plan - 240 m2 Bedroom area 20m 2 Bedroom area 26m 2  \\\n",
       "0                  NaN                NaN                NaN   \n",
       "1                  NaN                NaN                NaN   \n",
       "\n",
       "   Floor plan - 12 m2 Bedroom area 14m 2  n_Dining Rooms  Floor plan - 90 m2  \\\n",
       "0                 NaN                NaN             NaN                 NaN   \n",
       "1                 NaN                NaN             NaN                 NaN   \n",
       "\n",
       "  Bedroom area 13m 2 Bedroom area 24m 2 Bedroom area 12m 2  \\\n",
       "0                NaN                NaN                NaN   \n",
       "1                NaN                NaN                NaN   \n",
       "\n",
       "   Floor plan - 82 m2  Floor plan - 6 m2 Bedroom area 21m 2  \\\n",
       "0                 NaN                NaN                NaN   \n",
       "1                 NaN                NaN                NaN   \n",
       "\n",
       "  Bedroom area 11m 2  Floor plan - 9 m2  Floor plan - 135 m2  \\\n",
       "0                NaN                NaN                  NaN   \n",
       "1                NaN                NaN                  NaN   \n",
       "\n",
       "   Floor plan - 150 m2 Domestic students  Floor plan - 325 m2  \\\n",
       "0                  NaN               NaN                  NaN   \n",
       "1                  NaN               NaN                  NaN   \n",
       "\n",
       "  Bedroom area 19m 2  \\\n",
       "0                NaN   \n",
       "1                NaN   \n",
       "\n",
       "  The landlord didn’t provide any amenities for the Bathroom.  \\\n",
       "0                                                NaN            \n",
       "1                                                NaN            \n",
       "\n",
       "   Floor plan - 280 m2  Floor plan - 40 m2 Bedroom area 18m 2  \\\n",
       "0                  NaN                 NaN                NaN   \n",
       "1                  NaN                 NaN                NaN   \n",
       "\n",
       "   Floor plan - 160 m2  Floor plan - 14 m2  Floor plan - 18 m2  \\\n",
       "0                  NaN                 NaN                 NaN   \n",
       "1                  NaN                 NaN                 NaN   \n",
       "\n",
       "   Floor plan - 85 m2 Male only Requirements  n_Bathroom No photoss  \\\n",
       "0                 NaN       NaN          NaN                    NaN   \n",
       "1                 NaN       NaN          NaN                    NaN   \n",
       "\n",
       "  Bedroom area 17m 2 Bedroom area 15m 2  Floor plan - 165 m2  \\\n",
       "0                NaN                NaN                  NaN   \n",
       "1                NaN                NaN                  NaN   \n",
       "\n",
       "   Floor plan - 16 m2 International students  Floor plan - 400 m2  \\\n",
       "0                 NaN                    NaN                  NaN   \n",
       "1                 NaN                    NaN                  NaN   \n",
       "\n",
       "  Female, 18-25 years old Undergraduate student  Floor plan - 126 m2  \\\n",
       "0                     NaN                   NaN                  NaN   \n",
       "1                     NaN                   NaN                  NaN   \n",
       "\n",
       "   Floor plan - 30 m2 Male, 31-40 years old  Floor plan - 75 m2  \\\n",
       "0                 NaN                   NaN                 NaN   \n",
       "1                 NaN                   NaN                 NaN   \n",
       "\n",
       "   Floor plan - 120 m2 Male, 40+ years old  Floor plan - 76 m2  \\\n",
       "0                  NaN                 NaN                 NaN   \n",
       "1                  NaN                 NaN                 NaN   \n",
       "\n",
       "   Floor plan - 180 m2  Floor plan - 48 m2 Bedroom area 16m 2  \\\n",
       "0                  NaN                 NaN                NaN   \n",
       "1                  NaN                 NaN                NaN   \n",
       "\n",
       "   n_Living room No photoss  Floor plan - 50 m2  Floor plan - 70 m2  \\\n",
       "0                       NaN                 NaN                 NaN   \n",
       "1                       NaN                 NaN                 NaN   \n",
       "\n",
       "  Bedroom area 3m 2  Floor plan - 104 m2  Floor plan - 210 m2  \\\n",
       "0               NaN                  NaN                  NaN   \n",
       "1               NaN                  NaN                  NaN   \n",
       "\n",
       "  Enclosed balcony  Floor plan - 98 m2 Female  Floor plan - 170 m2  \\\n",
       "0              NaN                 NaN    NaN                  NaN   \n",
       "1              NaN                 NaN    NaN                  NaN   \n",
       "\n",
       "  Bedroom area 7m 2  Floor plan - 7 m2 Bedroom area 22m 2  Floor plan - 96 m2  \\\n",
       "0               NaN                NaN                NaN                 NaN   \n",
       "1               NaN                NaN                NaN                 NaN   \n",
       "\n",
       "   Floor plan - 140 m2  Floor plan - 55 m2  Floor plan - 95 m2  \\\n",
       "0                  NaN                 NaN                 NaN   \n",
       "1                  NaN                 NaN                 NaN   \n",
       "\n",
       "  Bedroom area 6m 2  Floor plan - 200 m2  Floor plan - 60 m2  \\\n",
       "0               NaN                  NaN                 NaN   \n",
       "1               NaN                  NaN                 NaN   \n",
       "\n",
       "   Floor plan - 11 m2  n_WC No photoss  Floor plan - 130 m2  \\\n",
       "0                 NaN              NaN                  NaN   \n",
       "1                 NaN              NaN                  NaN   \n",
       "\n",
       "  Bedroom area 32m 2 Female, 31-40 years old Male  Floor plan - 350 m2  \\\n",
       "0                NaN                     NaN  NaN                  NaN   \n",
       "1                NaN                     NaN  NaN                  NaN   \n",
       "\n",
       "   Floor plan - 35 m2 2 Double beds  Floor plan - 190 m2 Postgraduate student  \\\n",
       "0                 NaN           NaN                  NaN                  NaN   \n",
       "1                 NaN           NaN                  NaN                  NaN   \n",
       "\n",
       "   Floor plan - 21 m2 Bedroom area 30m 2 Male, 18-25 years old 4 Single beds  \\\n",
       "0                 NaN                NaN                   NaN           NaN   \n",
       "1                 NaN                NaN                   NaN           NaN   \n",
       "\n",
       "   Floor plan - 65 m2  Floor plan - 17 m2 Holding deposit  \\\n",
       "0                 NaN                 NaN             NaN   \n",
       "1                 NaN                 NaN             NaN   \n",
       "\n",
       "   Floor plan - 300 m2 3 Single beds  Floor plan - 250 m2  \\\n",
       "0                  NaN           NaN                  NaN   \n",
       "1                  NaN           NaN                  NaN   \n",
       "\n",
       "   Floor plan - 106 m2  Floor plan - 2 m2  \n",
       "0                  NaN                NaN  \n",
       "1                  NaN                NaN  "
      ]
     },
     "execution_count": 1584,
     "metadata": {},
     "output_type": "execute_result"
    }
   ],
   "source": [
    "print(df.shape)\n",
    "df.head(2)"
   ]
  },
  {
   "cell_type": "code",
   "execution_count": 1585,
   "id": "053df590-f288-4e69-9dda-10192a0ee3a6",
   "metadata": {},
   "outputs": [],
   "source": [
    "cols = df.columns"
   ]
  },
  {
   "cell_type": "markdown",
   "id": "a1b07ae9-0052-4010-8c45-dd4ce4923def",
   "metadata": {},
   "source": [
    "## Columns with \"plan\" or \"area\"\n",
    "There seems to be a high number of columns with the words \"plan\" or \"area\". "
   ]
  },
  {
   "cell_type": "code",
   "execution_count": 1586,
   "id": "92149cd1-5aed-4a08-bcc0-4b20c504086a",
   "metadata": {},
   "outputs": [],
   "source": [
    "def get_n_cols (cols, word):\n",
    "    new_cols = [col for col in cols if word in col.lower()]\n",
    "    print('There are {} columns with the word \"{}\".'.format(len(new_cols), word))\n",
    "    return new_cols"
   ]
  },
  {
   "cell_type": "code",
   "execution_count": 1587,
   "id": "e2baea30-dadb-4fc8-b3ed-7237e6c43aed",
   "metadata": {},
   "outputs": [
    {
     "name": "stdout",
     "output_type": "stream",
     "text": [
      "There are 62 columns with the word \"plan\".\n",
      "There are 25 columns with the word \"area\".\n"
     ]
    }
   ],
   "source": [
    "cols_plan = get_n_cols (cols, \"plan\")\n",
    "cols_area = get_n_cols (cols, \"area\")"
   ]
  },
  {
   "cell_type": "markdown",
   "id": "3d279238-fe41-459b-9275-33731f4b17a3",
   "metadata": {},
   "source": [
    "### Columns with \"plan\"\n",
    "\n",
    "We want to create a \"Floor plan m2\" column and save all the values from these columns.\n",
    "Ideally, there would only be a True, 1 or 1.0 value per row.\n",
    "We also need to see what their names look like."
   ]
  },
  {
   "cell_type": "code",
   "execution_count": 1588,
   "id": "6f7416be-6dbe-4e81-96fc-87dcc7e6a0de",
   "metadata": {},
   "outputs": [
    {
     "name": "stdout",
     "output_type": "stream",
     "text": [
      "['Floor plan - 100 m2', 'Floor plan - 20 m2', 'Floor plan - 110 m2', 'Floor plan - 220 m2', 'Floor plan - 25 m2', 'Floor plan - 105 m2', 'Floor plan - 5 m2', 'Floor plan - 4 m2', 'Floor plan - 13 m2', 'Floor plan - 8 m2', 'Floor plan - 15 m2', 'Floor plan - 10 m2', 'Floor plan - 240 m2', 'Floor plan - 12 m2', 'Floor plan - 90 m2', 'Floor plan - 82 m2', 'Floor plan - 6 m2', 'Floor plan - 9 m2', 'Floor plan - 135 m2', 'Floor plan - 150 m2', 'Floor plan - 325 m2', 'Floor plan - 280 m2', 'Floor plan - 40 m2', 'Floor plan - 160 m2', 'Floor plan - 14 m2', 'Floor plan - 18 m2', 'Floor plan - 85 m2', 'Floor plan - 165 m2', 'Floor plan - 16 m2', 'Floor plan - 400 m2', 'Floor plan - 126 m2', 'Floor plan - 30 m2', 'Floor plan - 75 m2', 'Floor plan - 120 m2', 'Floor plan - 76 m2', 'Floor plan - 180 m2', 'Floor plan - 48 m2', 'Floor plan - 50 m2', 'Floor plan - 70 m2', 'Floor plan - 104 m2', 'Floor plan - 210 m2', 'Floor plan - 98 m2', 'Floor plan - 170 m2', 'Floor plan - 7 m2', 'Floor plan - 96 m2', 'Floor plan - 140 m2', 'Floor plan - 55 m2', 'Floor plan - 95 m2', 'Floor plan - 200 m2', 'Floor plan - 60 m2', 'Floor plan - 11 m2', 'Floor plan - 130 m2', 'Floor plan - 350 m2', 'Floor plan - 35 m2', 'Floor plan - 190 m2', 'Floor plan - 21 m2', 'Floor plan - 65 m2', 'Floor plan - 17 m2', 'Floor plan - 300 m2', 'Floor plan - 250 m2', 'Floor plan - 106 m2', 'Floor plan - 2 m2']\n"
     ]
    }
   ],
   "source": [
    "print(cols_plan)"
   ]
  },
  {
   "cell_type": "code",
   "execution_count": 1589,
   "id": "c8c35708-57c9-4c9b-bf03-d239feeabf26",
   "metadata": {},
   "outputs": [
    {
     "name": "stdout",
     "output_type": "stream",
     "text": [
      "157 rows have more than one row with a True, 1 or 1.0 value.\n"
     ]
    }
   ],
   "source": [
    "new_cols = cols_plan.copy()\n",
    "print(\"{} rows have more than one row with a True, 1 or 1.0 value.\".\n",
    "      format(len(df[new_cols].sum(axis=1)[df[new_cols].sum(axis=1) > 1])))"
   ]
  },
  {
   "cell_type": "markdown",
   "id": "f50200df-234c-420c-9bcc-872922d45f00",
   "metadata": {},
   "source": [
    "It seems that is not the case. We will save the highest value.\n",
    "For that, we will:\n",
    "1. Take the number part from the column names\n",
    "2. Fill the rows with True, 1 or 1.0 value with these numbers.\n",
    "3. Merge columns, keeping the largest number of each row.\n",
    "\n",
    "Protip: x=1, x=1.0 and x=True, return True in x==True."
   ]
  },
  {
   "cell_type": "code",
   "execution_count": 1590,
   "id": "92d7e058-25e0-484e-9ec2-4db16589629c",
   "metadata": {},
   "outputs": [],
   "source": [
    "def get_number (df, cols, split1):\n",
    "    for col in cols:\n",
    "        number = [int(i) for i in col.split(split1)[0].split() if i.isdigit()][0]\n",
    "        df[col] = np.where(df[col] == True, number, df[col]) \n",
    "    return df[cols]\n",
    "\n",
    "def delete_smaller (df, cols):\n",
    "    maxs = df[cols].max(axis=1)\n",
    "    for ind in df[cols].index:\n",
    "        df.loc[ind,cols] = np.where(df.loc[ind,cols] == maxs[ind], df.loc[ind,cols], None)\n",
    "    return df[cols]   \n",
    "\n",
    "def merge_cols (df, cols, col_name):\n",
    "    df[col_name] = df[cols].max(axis=1)\n",
    "    df = df.drop(cols, axis=1)\n",
    "    return df"
   ]
  },
  {
   "cell_type": "code",
   "execution_count": 1591,
   "id": "9e7e67b5-b708-4d12-95a3-71f1fdcee80c",
   "metadata": {},
   "outputs": [],
   "source": [
    "df[new_cols] = get_number (df, new_cols, \" m2\")\n",
    "df[new_cols] = delete_smaller (df, new_cols)\n",
    "df = merge_cols (df, new_cols, \"Floor_plan_m2\")"
   ]
  },
  {
   "cell_type": "markdown",
   "id": "f6775c26-e7e6-4908-9eff-4a11d3ab4ba1",
   "metadata": {},
   "source": [
    "### Columns with \"area\""
   ]
  },
  {
   "cell_type": "code",
   "execution_count": 1592,
   "id": "e83d8053-82a0-4bf7-8c02-4db224b5dd97",
   "metadata": {},
   "outputs": [
    {
     "name": "stdout",
     "output_type": "stream",
     "text": [
      "34 rows have more than one row with a True, 1 or 1.0 value.\n"
     ]
    }
   ],
   "source": [
    "new_cols = cols_area.copy()\n",
    "print(\"{} rows have more than one row with a True, 1 or 1.0 value.\".\n",
    "      format(len(df[new_cols].sum(axis=1)[df[new_cols].sum(axis=1) > 1])))"
   ]
  },
  {
   "cell_type": "code",
   "execution_count": 1593,
   "id": "ad03f590-2d17-4e9b-909c-a686b6d17e69",
   "metadata": {},
   "outputs": [
    {
     "name": "stdout",
     "output_type": "stream",
     "text": [
      "['Outdoor area', 'Bedroom area 8m 2', 'Bedroom area 10m 2', 'Bedroom area 1m 2', 'Bedroom area 25m 2', 'Bedroom area 9m 2', 'Bedroom area 20m 2', 'Bedroom area 26m 2', 'Bedroom area 14m 2', 'Bedroom area 13m 2', 'Bedroom area 24m 2', 'Bedroom area 12m 2', 'Bedroom area 21m 2', 'Bedroom area 11m 2', 'Bedroom area 19m 2', 'Bedroom area 18m 2', 'Bedroom area 17m 2', 'Bedroom area 15m 2', 'Bedroom area 16m 2', 'Bedroom area 3m 2', 'Bedroom area 7m 2', 'Bedroom area 22m 2', 'Bedroom area 6m 2', 'Bedroom area 32m 2', 'Bedroom area 30m 2']\n"
     ]
    }
   ],
   "source": [
    "print(cols_area)"
   ]
  },
  {
   "cell_type": "markdown",
   "id": "6f9f0391-a211-49cc-9483-8096673cd3dc",
   "metadata": {},
   "source": [
    "We will need to merge the bedroom area columns, but leave the Outdoor area column alone."
   ]
  },
  {
   "cell_type": "code",
   "execution_count": 1594,
   "id": "d65cd16e-b043-47ee-ac39-e3899776dcda",
   "metadata": {},
   "outputs": [],
   "source": [
    "new_cols.remove('Outdoor area')"
   ]
  },
  {
   "cell_type": "code",
   "execution_count": 1595,
   "id": "9ed69739-690c-472c-89bb-2c7f4d259087",
   "metadata": {},
   "outputs": [],
   "source": [
    "df[new_cols] = get_number (df, new_cols, \"m 2\")\n",
    "df[new_cols] = delete_smaller (df, new_cols)\n",
    "df = merge_cols (df, new_cols, \"Bedroom_area_m2\")"
   ]
  },
  {
   "cell_type": "markdown",
   "id": "6007b4e6-9557-4069-bc6c-2867426c0971",
   "metadata": {},
   "source": [
    "## Solving header data scraping issues\n",
    "\n",
    "During the scrapping it was assumed that the header of listings all had the format. It seems that was not case.\n",
    "\n",
    "The header data is in columns type, n_people, n_bedrooms, n_bathrooms."
   ]
  },
  {
   "cell_type": "code",
   "execution_count": 1596,
   "id": "49c0b7dd-2014-4358-9e64-03d1836fd71b",
   "metadata": {},
   "outputs": [
    {
     "data": {
      "text/plain": [
       "2 bathrooms               469\n",
       "1 Bathroom                242\n",
       "3 bathrooms               126\n",
       "5-bedroom apartment        20\n",
       "5 bathrooms                16\n",
       "4 bathrooms                13\n",
       "7-bedroom apartment        13\n",
       "2-bedroom apartment        10\n",
       "4-bedroom apartment         9\n",
       "6-bedroom apartment         7\n",
       "3-bedroom apartment         7\n",
       "9-bedroom apartment         6\n",
       "6 bathrooms                 6\n",
       "Apartment in hostel         5\n",
       "Apartment in residence      5\n",
       "6-bedroom house             2\n",
       "4-bedroom house             1\n",
       "10-bedroom apartment        1\n",
       "8-bedroom apartment         1\n",
       "Name: n_bathrooms, dtype: int64"
      ]
     },
     "execution_count": 1596,
     "metadata": {},
     "output_type": "execute_result"
    }
   ],
   "source": [
    "df[\"n_bathrooms\"].value_counts()"
   ]
  },
  {
   "cell_type": "code",
   "execution_count": 1597,
   "id": "84562ab5-6282-4344-bff4-b5c6ace5932c",
   "metadata": {},
   "outputs": [
    {
     "data": {
      "text/plain": [
       "Single bedroom      467\n",
       "Double bedroom      413\n",
       "Twin bedroom         77\n",
       "Multiple bedroom      2\n",
       "Name: type, dtype: int64"
      ]
     },
     "execution_count": 1597,
     "metadata": {},
     "output_type": "execute_result"
    }
   ],
   "source": [
    "df[\"type\"].value_counts()"
   ]
  },
  {
   "cell_type": "code",
   "execution_count": 1598,
   "id": "728c32fb-66c4-4488-8fa7-f7a0b023bd93",
   "metadata": {},
   "outputs": [
    {
     "data": {
      "text/plain": [
       "1 person            586\n",
       "Up to 2 people      285\n",
       "Private bathroom     87\n",
       "Up to 3 people        1\n",
       "Name: n_people, dtype: int64"
      ]
     },
     "execution_count": 1598,
     "metadata": {},
     "output_type": "execute_result"
    }
   ],
   "source": [
    "df[\"n_people\"].value_counts()"
   ]
  },
  {
   "cell_type": "code",
   "execution_count": 1599,
   "id": "c447c5cd-1bb8-45c8-b591-62ce8ff5b20e",
   "metadata": {},
   "outputs": [
    {
     "data": {
      "text/plain": [
       "7-bedroom apartment       185\n",
       "5-bedroom apartment       120\n",
       "4-bedroom apartment       108\n",
       "3-bedroom apartment       102\n",
       "6-bedroom apartment        89\n",
       "8-bedroom apartment        56\n",
       "1 person                   48\n",
       "9-bedroom apartment        46\n",
       "Up to 2 people             37\n",
       "Apartment in residence     36\n",
       "10-bedroom apartment       36\n",
       "2-bedroom apartment        32\n",
       "20-bedroom apartment       16\n",
       "Apartment in hostel        13\n",
       "6-bedroom house             9\n",
       "11-bedroom apartment        8\n",
       "Residence                   4\n",
       "3-bedroom house             3\n",
       "4-bedroom house             3\n",
       "5-bedroom house             3\n",
       "Up to 3 people              2\n",
       "2-bedroom house             1\n",
       "1-bedroom apartment         1\n",
       "7-bedroom house             1\n",
       "Name: n_bedrooms, dtype: int64"
      ]
     },
     "execution_count": 1599,
     "metadata": {},
     "output_type": "execute_result"
    }
   ],
   "source": [
    "df[\"n_bedrooms\"].value_counts()"
   ]
  },
  {
   "cell_type": "markdown",
   "id": "e2097f78-0c7f-46a2-98d3-b009f3fef442",
   "metadata": {},
   "source": [
    "**We will apply the following:**\n",
    "1. If it has the word bathroom, belongs in n_bathrooms\n",
    "2. If it has the word bedroom, belongs in n_bedrooms\n",
    "3. If it has the words people or person, belongs in n_people\n",
    "\n",
    "This means dropping information like residence or hostel, which is fine because most listings do not include this information.\n",
    "\n",
    "Protip: Go back to the previous cells anytime to check if you are moving in the correct path."
   ]
  },
  {
   "cell_type": "markdown",
   "id": "353894a2-556c-4299-b1d9-cdff5e514ecb",
   "metadata": {},
   "source": [
    "##### Move information to the correct columns"
   ]
  },
  {
   "cell_type": "code",
   "execution_count": 1600,
   "id": "d05cbde5-02c6-4aec-996e-ccdb84eb80c6",
   "metadata": {},
   "outputs": [],
   "source": [
    "new_df = df.copy()\n",
    "\n",
    "ind = new_df[new_df[\"n_people\"].str.contains(\"bathroom\", case=False) == True].index\n",
    "df.loc[ind, \"n_bathrooms\"] = new_df.loc[ind, \"n_people\"]\n",
    "\n",
    "ind = new_df[new_df[\"n_bathrooms\"].str.contains(\"bedroom\", case=False) == True].index\n",
    "df.loc[ind, \"n_bedrooms\"] = new_df.loc[ind, \"n_bathrooms\"]\n",
    "\n",
    "ind = new_df[new_df[\"n_bedrooms\"].str.contains(\"person\", case=False) == True].index\n",
    "df.loc[ind, \"n_people\"] = new_df.loc[ind, \"n_bedrooms\"]\n",
    "\n",
    "ind = new_df[new_df[\"n_bedrooms\"].str.contains(\"people\", case=False) == True].index\n",
    "df.loc[ind, \"n_people\"] = new_df.loc[ind, \"n_bedrooms\"]"
   ]
  },
  {
   "cell_type": "markdown",
   "id": "f12b4cd7-92cf-4763-a0ca-05c71cc30505",
   "metadata": {},
   "source": [
    "##### Remove incorrect information"
   ]
  },
  {
   "cell_type": "code",
   "execution_count": 1601,
   "id": "33d1a8f1-5e02-4ca2-ac13-3b3c74bd7623",
   "metadata": {},
   "outputs": [],
   "source": [
    "for col, word in zip([\"n_bathrooms\", \"n_bedrooms\", \"n_people\"], \n",
    "                     [\"bathroom\", \"bedroom\", [\"people\", \"person\"]]): \n",
    "    if type(word) != list:\n",
    "        df[col] = np.where(df[col].str.contains(word, case=False), df[col], None)\n",
    "    else:\n",
    "        df[col] = np.where((df[col].str.contains(word[0], case=False) |\n",
    "                            df[col].str.contains(word[1], case=False)),\n",
    "                           df[col], None)"
   ]
  },
  {
   "cell_type": "markdown",
   "id": "904c0a16-d34b-4c1b-a200-7e90183b03ea",
   "metadata": {},
   "source": [
    "##### Format data"
   ]
  },
  {
   "cell_type": "code",
   "execution_count": 1602,
   "id": "7e6d5ded-5450-45ad-b056-d6634ecd9d72",
   "metadata": {},
   "outputs": [],
   "source": [
    "df[\"has_private_bathroom\"] = np.where(df[\"n_bathrooms\"] == \"Private bathroom\", 1, 0)\n",
    "df[\"n_bathrooms\"] = np.where(df[\"n_bathrooms\"] == \"Private bathroom\", None, df[\"n_bathrooms\"])\n",
    "\n",
    "for col in [\"n_bathrooms\", \"n_people\", \"n_bedrooms\"]:\n",
    "    df[col] = df[col][df[col].notnull() == True].str.extract('(\\d+)')"
   ]
  },
  {
   "cell_type": "markdown",
   "id": "7a25b879-fbca-4b57-b3fb-7dc7f6bfb1f9",
   "metadata": {},
   "source": [
    "## Columns with \"n_\" "
   ]
  },
  {
   "cell_type": "code",
   "execution_count": 1603,
   "id": "2761d89d-8d0c-4e5f-8621-b2f25d07f636",
   "metadata": {},
   "outputs": [
    {
     "name": "stdout",
     "output_type": "stream",
     "text": [
      "There are 13 columns with the word \"n_\".\n",
      "['n_thumbnails', 'n_reviews', 'n_people', 'n_bedrooms', 'n_bathrooms', 'n_Bathrooms', 'n_Kitchens', 'n_Living rooms', 'n_WCs', 'n_Dining Rooms', 'n_Bathroom No photoss', 'n_Living room No photoss', 'n_WC No photoss']\n"
     ]
    }
   ],
   "source": [
    "new_cols = get_n_cols (cols, \"n_\")\n",
    "print(new_cols)"
   ]
  },
  {
   "cell_type": "code",
   "execution_count": 1604,
   "id": "1e2c188f-a0af-47ca-af80-5624568cc752",
   "metadata": {},
   "outputs": [
    {
     "data": {
      "text/plain": [
       "array(['31', '6', '15', '18', '20', '10', '16', '13', '7', '19', '24',\n",
       "       '11', '8', '9', '5', '29', '17', '33', '28', '14', '40', '12',\n",
       "       '21', '27', '22', '32', '26', '25', '47', '2 or less', '23', '46',\n",
       "       '42', '35', '34', '37', '30', '41', '36', '57', '43', '45', '38',\n",
       "       '48', '39', '51', '50', '52', '54'], dtype=object)"
      ]
     },
     "execution_count": 1604,
     "metadata": {},
     "output_type": "execute_result"
    }
   ],
   "source": [
    "df['n_thumbnails'].unique()"
   ]
  },
  {
   "cell_type": "code",
   "execution_count": 1605,
   "id": "a0d845ed-e793-45fc-a2c4-9c5947eef8a4",
   "metadata": {},
   "outputs": [
    {
     "data": {
      "text/plain": [
       "array(['0',\n",
       "       '<selenium.webdriver.remote.webelement.WebElement (session=\"5c9b2c8b2d9aaf92b979720717073b45\", element=\"fd706b66-2742-4960-81f1-511f48642d76\")>',\n",
       "       '<selenium.webdriver.remote.webelement.WebElement (session=\"5c9b2c8b2d9aaf92b979720717073b45\", element=\"dc67e822-1b9c-4287-8e3f-8568141c92a7\")>',\n",
       "       '<selenium.webdriver.remote.webelement.WebElement (session=\"5c9b2c8b2d9aaf92b979720717073b45\", element=\"961e4a72-1548-46e5-bfff-f640dbddb35d\")>'],\n",
       "      dtype=object)"
      ]
     },
     "execution_count": 1605,
     "metadata": {},
     "output_type": "execute_result"
    }
   ],
   "source": [
    "df['n_reviews'].unique()[:4]"
   ]
  },
  {
   "cell_type": "markdown",
   "id": "5529b8a0-6c05-418d-9771-f25d956b8767",
   "metadata": {},
   "source": [
    "\"2 or less\" will be changed to 2. The other was a distraction. I forgot to take the text, instead of the element."
   ]
  },
  {
   "cell_type": "code",
   "execution_count": 1606,
   "id": "11d1bd2a-1043-44e0-9d58-c25248853475",
   "metadata": {},
   "outputs": [],
   "source": [
    "df = df.drop('n_reviews', axis=1)\n",
    "df['n_thumbnails'] = np.where(df['n_thumbnails'] == '2 or less', 2, df['n_thumbnails'])"
   ]
  },
  {
   "cell_type": "markdown",
   "id": "21090aae-7128-414f-be23-31d39b7113b2",
   "metadata": {},
   "source": [
    "We want to join the bathrooms columns, bedrooms columns,..."
   ]
  },
  {
   "cell_type": "code",
   "execution_count": 1607,
   "id": "6ccee231-a4a7-4661-84c9-7542e139d7b4",
   "metadata": {},
   "outputs": [
    {
     "name": "stdout",
     "output_type": "stream",
     "text": [
      "There are 1 columns with the word \"bedroom\".\n",
      "There are 3 columns with the word \"bathroom\".\n",
      "There are 1 columns with the word \"kitchen\".\n",
      "There are 2 columns with the word \"living\".\n",
      "There are 1 columns with the word \"dining\".\n",
      "There are 2 columns with the word \"wc\".\n"
     ]
    }
   ],
   "source": [
    "cols_bedroom = get_n_cols (new_cols, \"bedroom\")\n",
    "cols_bathroom = get_n_cols (new_cols, \"bathroom\")\n",
    "cols_kitchen = get_n_cols (new_cols, \"kitchen\")\n",
    "cols_living = get_n_cols (new_cols, \"living\")\n",
    "cols_dining = get_n_cols (new_cols, \"dining\")\n",
    "cols_wc = get_n_cols (new_cols, \"wc\")"
   ]
  },
  {
   "cell_type": "markdown",
   "id": "9e46aef5-908c-4bf0-817c-9436867d543f",
   "metadata": {},
   "source": [
    "### Columns with \"bathroom\"\n",
    "\n",
    "We will put the maximum value of these columns in n_bathrooms column.\n",
    "\n",
    "We need to check if either of these are of type object (string in this case). We can also check nulls at the same time."
   ]
  },
  {
   "cell_type": "code",
   "execution_count": 1608,
   "id": "de86210f-ced0-4733-a59e-73966d5e98bf",
   "metadata": {},
   "outputs": [
    {
     "name": "stdout",
     "output_type": "stream",
     "text": [
      "<class 'pandas.core.frame.DataFrame'>\n",
      "Int64Index: 959 entries, 0 to 958\n",
      "Data columns (total 3 columns):\n",
      " #   Column                 Non-Null Count  Dtype  \n",
      "---  ------                 --------------  -----  \n",
      " 0   n_bathrooms            872 non-null    object \n",
      " 1   n_Bathrooms            919 non-null    float64\n",
      " 2   n_Bathroom No photoss  27 non-null     float64\n",
      "dtypes: float64(2), object(1)\n",
      "memory usage: 62.3+ KB\n"
     ]
    }
   ],
   "source": [
    "df[cols_bathroom].info()"
   ]
  },
  {
   "cell_type": "markdown",
   "id": "fba7f74f-fe20-48b0-912c-2909cf75e5f1",
   "metadata": {},
   "source": [
    "#### Change type, get max and drop cols"
   ]
  },
  {
   "cell_type": "code",
   "execution_count": 1609,
   "id": "240e5a4e-7c95-4f78-a23a-1c26c4fe60d0",
   "metadata": {},
   "outputs": [],
   "source": [
    "def drop_redundant (df, cols, col_name):\n",
    "    for col in cols:\n",
    "        df[col] = pd.to_numeric(df[col])\n",
    "    df[col_name] = df[cols].max(axis=1)\n",
    "    \n",
    "    if col_name in cols:\n",
    "        cols.remove(col_name)\n",
    "        \n",
    "    df = df.drop(cols, axis=1)\n",
    "    return df"
   ]
  },
  {
   "cell_type": "code",
   "execution_count": 1610,
   "id": "c5638b71-1591-4382-8874-06f72450cd4d",
   "metadata": {},
   "outputs": [],
   "source": [
    "df = drop_redundant (df, cols_bathroom, \"n_bathrooms\")"
   ]
  },
  {
   "cell_type": "markdown",
   "id": "57f585d4-4d04-4817-a35a-56ff717f1228",
   "metadata": {},
   "source": [
    "Lets see if there are any other columns with bathroom."
   ]
  },
  {
   "cell_type": "code",
   "execution_count": 1611,
   "id": "defd87b6-2bbe-4138-8c34-f0772eb8da18",
   "metadata": {},
   "outputs": [
    {
     "name": "stdout",
     "output_type": "stream",
     "text": [
      "There are 5 columns with the word \"bathroom\".\n",
      "<class 'pandas.core.frame.DataFrame'>\n",
      "Int64Index: 959 entries, 0 to 958\n",
      "Data columns (total 5 columns):\n",
      " #   Column                                                       Non-Null Count  Dtype  \n",
      "---  ------                                                       --------------  -----  \n",
      " 0   n_bathrooms                                                  930 non-null    float64\n",
      " 1   Private bathroom                                             87 non-null     object \n",
      " 2   Bathroom                                                     87 non-null     object \n",
      " 3   The landlord didn’t provide any amenities for the Bathroom.  7 non-null      object \n",
      " 4   has_private_bathroom                                         959 non-null    int64  \n",
      "dtypes: float64(1), int64(1), object(3)\n",
      "memory usage: 77.2+ KB\n"
     ]
    }
   ],
   "source": [
    "tmp_cols = get_n_cols(df.columns, \"bathroom\")\n",
    "df[tmp_cols].info()"
   ]
  },
  {
   "cell_type": "code",
   "execution_count": 1612,
   "id": "e1aae5d9-345f-44ca-aec1-d72e36fadf7c",
   "metadata": {},
   "outputs": [
    {
     "name": "stdout",
     "output_type": "stream",
     "text": [
      "True\n"
     ]
    }
   ],
   "source": [
    "print(df[\"Private bathroom\"].equals(df[\"Bathroom\"]))"
   ]
  },
  {
   "cell_type": "markdown",
   "id": "d8bad4ed-62c4-483f-9c6c-025127c36bf5",
   "metadata": {},
   "source": [
    "It looks like Private bathroom and Bathroom are identical (I made a mistake during the scraping).\n",
    "Let's drop Bathroom, Private bathroom and any column about ammenities."
   ]
  },
  {
   "cell_type": "code",
   "execution_count": 1613,
   "id": "7cfd75d0-aea9-47b8-a39c-6e1dff160713",
   "metadata": {},
   "outputs": [],
   "source": [
    "tmp = [\"Bathroom\", \"Private bathroom\"] + [col for col in tmp_cols if \"amenit\" in col.lower()]\n",
    "df = df.drop(tmp, axis=1)"
   ]
  },
  {
   "cell_type": "markdown",
   "id": "deccedc4-0fd2-4ce8-830c-4034175b90b9",
   "metadata": {},
   "source": [
    "### Columns with \"living\""
   ]
  },
  {
   "cell_type": "code",
   "execution_count": 1614,
   "id": "8625fc2a-550a-4be9-8d8a-8d518ffe0ca7",
   "metadata": {},
   "outputs": [
    {
     "name": "stdout",
     "output_type": "stream",
     "text": [
      "There are 1 columns with the word \"living\".\n",
      "<class 'pandas.core.frame.DataFrame'>\n",
      "Int64Index: 959 entries, 0 to 958\n",
      "Data columns (total 1 columns):\n",
      " #   Column          Non-Null Count  Dtype  \n",
      "---  ------          --------------  -----  \n",
      " 0   n_living_rooms  402 non-null    float64\n",
      "dtypes: float64(1)\n",
      "memory usage: 47.3 KB\n"
     ]
    }
   ],
   "source": [
    "df = drop_redundant (df, cols_living, \"n_living_rooms\")\n",
    "tmp_cols = get_n_cols(df.columns, \"living\")\n",
    "df[tmp_cols].info()"
   ]
  },
  {
   "cell_type": "markdown",
   "id": "d0a81a8a-6268-498d-bba2-aeb50b09f536",
   "metadata": {},
   "source": [
    "### Columns with \"wc\""
   ]
  },
  {
   "cell_type": "code",
   "execution_count": 1615,
   "id": "4a7c989e-85ad-478c-a005-15edfd0814f9",
   "metadata": {},
   "outputs": [
    {
     "name": "stdout",
     "output_type": "stream",
     "text": [
      "There are 1 columns with the word \"wc\".\n",
      "<class 'pandas.core.frame.DataFrame'>\n",
      "Int64Index: 959 entries, 0 to 958\n",
      "Data columns (total 1 columns):\n",
      " #   Column  Non-Null Count  Dtype  \n",
      "---  ------  --------------  -----  \n",
      " 0   n_wcs   54 non-null     float64\n",
      "dtypes: float64(1)\n",
      "memory usage: 47.3 KB\n"
     ]
    }
   ],
   "source": [
    "df = drop_redundant (df, cols_wc, \"n_wcs\")\n",
    "tmp_cols = get_n_cols(df.columns, \"wc\")\n",
    "df[tmp_cols].info()"
   ]
  },
  {
   "cell_type": "markdown",
   "id": "882ea570-2c2c-4488-9a41-6a537251a6dc",
   "metadata": {},
   "source": [
    "## Columns with \"single\" "
   ]
  },
  {
   "cell_type": "code",
   "execution_count": 1616,
   "id": "372975a9-6a40-4bed-8b80-1458e6f929f7",
   "metadata": {},
   "outputs": [
    {
     "name": "stdout",
     "output_type": "stream",
     "text": [
      "There are 4 columns with the word \"single\".\n",
      "<class 'pandas.core.frame.DataFrame'>\n",
      "Int64Index: 959 entries, 0 to 958\n",
      "Data columns (total 4 columns):\n",
      " #   Column         Non-Null Count  Dtype \n",
      "---  ------         --------------  ----- \n",
      " 0   1 Single bed   473 non-null    object\n",
      " 1   2 Single beds  69 non-null     object\n",
      " 2   4 Single beds  1 non-null      object\n",
      " 3   3 Single beds  1 non-null      object\n",
      "dtypes: object(4)\n",
      "memory usage: 69.8+ KB\n"
     ]
    }
   ],
   "source": [
    "cols_single = get_n_cols (cols, \"single\")\n",
    "df[cols_single].info()"
   ]
  },
  {
   "cell_type": "code",
   "execution_count": 1617,
   "id": "fdcdbcc2-f62c-424d-a628-2dfa1ba36352",
   "metadata": {},
   "outputs": [],
   "source": [
    "for col in cols_single:\n",
    "    number = [int(i) for i in col.split() if i.isdigit()]\n",
    "    df[col] = np.where(df[col].notnull(), number[0], 0)\n",
    "    \n",
    "df = drop_redundant (df, cols_single, \"n_single_beds\")"
   ]
  },
  {
   "cell_type": "code",
   "execution_count": 1618,
   "id": "2dda2617-fa01-4e6a-89b9-850b8df1446f",
   "metadata": {},
   "outputs": [
    {
     "name": "stdout",
     "output_type": "stream",
     "text": [
      "There are 2 columns with the word \"double\".\n",
      "<class 'pandas.core.frame.DataFrame'>\n",
      "Int64Index: 959 entries, 0 to 958\n",
      "Data columns (total 2 columns):\n",
      " #   Column         Non-Null Count  Dtype \n",
      "---  ------         --------------  ----- \n",
      " 0   1 Double bed   419 non-null    object\n",
      " 1   2 Double beds  2 non-null      object\n",
      "dtypes: object(2)\n",
      "memory usage: 54.8+ KB\n"
     ]
    }
   ],
   "source": [
    "## Columns with \"double\" \n",
    "cols_double = get_n_cols (cols, \"double\")\n",
    "df[cols_double].info()"
   ]
  },
  {
   "cell_type": "code",
   "execution_count": 1619,
   "id": "657c363e-1bc8-42ed-aa89-3860dc58f841",
   "metadata": {},
   "outputs": [],
   "source": [
    "for col in cols_double:\n",
    "    number = [int(i) for i in col.split() if i.isdigit()]\n",
    "    df[col] = np.where(df[col].notnull(), number[0], 0)\n",
    "    \n",
    "df = drop_redundant (df, cols_double, \"n_double_beds\")"
   ]
  },
  {
   "cell_type": "markdown",
   "id": "cd2f6b69-ad85-4d16-bf1d-dd5e52678d15",
   "metadata": {},
   "source": [
    "## Columns with \"student\" \n",
    "\n",
    "Several columns have the word student."
   ]
  },
  {
   "cell_type": "code",
   "execution_count": 1620,
   "id": "1ce253ce-c105-4561-b718-0c6442118752",
   "metadata": {},
   "outputs": [
    {
     "name": "stdout",
     "output_type": "stream",
     "text": [
      "There are 4 columns with the word \"student\".\n",
      "<class 'pandas.core.frame.DataFrame'>\n",
      "Int64Index: 959 entries, 0 to 958\n",
      "Data columns (total 4 columns):\n",
      " #   Column                  Non-Null Count  Dtype \n",
      "---  ------                  --------------  ----- \n",
      " 0   Domestic students       21 non-null     object\n",
      " 1   International students  6 non-null      object\n",
      " 2   Undergraduate student   6 non-null      object\n",
      " 3   Postgraduate student    8 non-null      object\n",
      "dtypes: object(4)\n",
      "memory usage: 69.8+ KB\n"
     ]
    }
   ],
   "source": [
    "cols_student = get_n_cols (cols, \"student\")\n",
    "\n",
    "df[cols_student].info()"
   ]
  },
  {
   "cell_type": "markdown",
   "id": "54bdc0c6-3917-4568-b8be-c040a6bb7a50",
   "metadata": {},
   "source": [
    "If it has the \"students\" then is regarding the tenants. We will include them as cols_tenant_restrictions for a future \"has_tenant_restrictions\".\n",
    "\n",
    "If it has \"student\" is regarding landlord. For the landlord, we just want to save that it has landlord. We will deal with these later."
   ]
  },
  {
   "cell_type": "code",
   "execution_count": 1621,
   "id": "102633a4-ab8e-4a79-aa75-39e94bf32c84",
   "metadata": {},
   "outputs": [],
   "source": [
    "cols_landlord = [\"Undergraduate student\", \"Postgraduate student\"]\n",
    "cols_tenant_restrictions = [\"Domestic students\", \"International students\"]"
   ]
  },
  {
   "cell_type": "code",
   "execution_count": 1622,
   "id": "fd6986c2-bec3-406a-b854-9d2ea7d0c100",
   "metadata": {},
   "outputs": [
    {
     "name": "stdout",
     "output_type": "stream",
     "text": [
      "False    21\n",
      "Name: Domestic students, dtype: int64\n",
      "False    6\n",
      "Name: International students, dtype: int64\n"
     ]
    }
   ],
   "source": [
    "print(df[cols_tenant_restrictions[0]].value_counts())\n",
    "print(df[cols_tenant_restrictions[1]].value_counts())"
   ]
  },
  {
   "cell_type": "markdown",
   "id": "85ca3526-0b4a-4c88-beaa-e6b02cda986c",
   "metadata": {},
   "source": [
    "## Columns with \"male\" \n",
    "\n",
    "This will return columns with the substring \"male\" (which also includes \"female\")"
   ]
  },
  {
   "cell_type": "code",
   "execution_count": 1623,
   "id": "7f2cc4d0-25a0-43de-acc8-b7933bb0243a",
   "metadata": {},
   "outputs": [
    {
     "name": "stdout",
     "output_type": "stream",
     "text": [
      "There are 11 columns with the word \"male\".\n"
     ]
    }
   ],
   "source": [
    "cols_male = get_n_cols (cols, \"male\")"
   ]
  },
  {
   "cell_type": "code",
   "execution_count": 1624,
   "id": "88dff4a5-e667-4f46-8817-4cf5f3739e0a",
   "metadata": {},
   "outputs": [
    {
     "name": "stdout",
     "output_type": "stream",
     "text": [
      "<class 'pandas.core.frame.DataFrame'>\n",
      "Int64Index: 959 entries, 0 to 958\n",
      "Data columns (total 11 columns):\n",
      " #   Column                   Non-Null Count  Dtype \n",
      "---  ------                   --------------  ----- \n",
      " 0   Female, 26-30 years old  8 non-null      object\n",
      " 1   Female, 40+ years old    50 non-null     object\n",
      " 2   Female only              86 non-null     object\n",
      " 3   Male only                9 non-null      object\n",
      " 4   Female, 18-25 years old  6 non-null      object\n",
      " 5   Male, 31-40 years old    12 non-null     object\n",
      " 6   Male, 40+ years old      12 non-null     object\n",
      " 7   Female                   2 non-null      object\n",
      " 8   Female, 31-40 years old  7 non-null      object\n",
      " 9   Male                     4 non-null      object\n",
      " 10  Male, 18-25 years old    1 non-null      object\n",
      "dtypes: object(11)\n",
      "memory usage: 122.2+ KB\n"
     ]
    }
   ],
   "source": [
    "df[cols_male].info()"
   ]
  },
  {
   "cell_type": "markdown",
   "id": "7c8961e8-c02d-4975-a700-f6b4a382aa52",
   "metadata": {},
   "source": [
    "The columns with the word \"only\" refer to the tenant, the others are regarding the landlord.\n",
    "\n",
    "We will create new columns with names \"tenant_male\" and \"tenant_female\".\n",
    "We will keep [\"Female only\", \"Male only\"] for now"
   ]
  },
  {
   "cell_type": "code",
   "execution_count": 1625,
   "id": "1c2ae5db-3e64-486b-bed3-ada3dee5adb8",
   "metadata": {},
   "outputs": [],
   "source": [
    "cols_landlord = cols_landlord + [col for col in cols_male if \"only\" not in col]\n",
    "\n",
    "cols_tenant_restrictions = cols_tenant_restrictions + [\"Female only\", \"Male only\"]"
   ]
  },
  {
   "cell_type": "markdown",
   "id": "38ef7c4b-f4b6-4c52-8ccd-dfb6a12df799",
   "metadata": {},
   "source": [
    "#### Columns of landlord\n",
    "\n",
    "There a few more columns regarding the landlord: [\"Professional\", \"Lives with family\", \"Has pets\"].\n",
    "We will add the prefix \"landlord_\" to the landlord columns, change nulls to 0, and create a new column named \"landlord_lives_here\".\n",
    "\n",
    "We will also drop from the abridged version all the columns related to the landlord except \"landlord_lives_here\"."
   ]
  },
  {
   "cell_type": "code",
   "execution_count": 1626,
   "id": "9846d0fb-1a5e-45d3-976a-fc3e1ce7473b",
   "metadata": {},
   "outputs": [],
   "source": [
    "def group_cols (df, cols, prefix, col_name):\n",
    "    \n",
    "    df[col_name] = df[cols].max(axis=1)\n",
    "        \n",
    "    with_prefix = dict([(x, prefix + x) for x in cols])\n",
    "    df = df.rename(columns = with_prefix)\n",
    "    \n",
    "    return df, list(with_prefix.values())"
   ]
  },
  {
   "cell_type": "code",
   "execution_count": 1627,
   "id": "be36b820-b282-410e-a2e7-39f980263eec",
   "metadata": {},
   "outputs": [],
   "source": [
    "cols_landlord = cols_landlord + [\"Professional\", \"Lives with family\", \"Has pets\"]\n",
    "df, cols_landlord = group_cols (df, cols_landlord, \"landlord_\", \"landlord_lives_here\")\n",
    "\n",
    "for col in cols_landlord:\n",
    "    df[col] = np.where(df[col].isnull(), 0, df[col])"
   ]
  },
  {
   "cell_type": "markdown",
   "id": "b7501d37-0fd5-4158-89e7-840a6b3dd066",
   "metadata": {},
   "source": [
    "#### Columns of tennant\n",
    "\n",
    "There a few more columns regarding the tenant: [\"Pets\", \"Postgraduates\", \"Full-time employees\", \"Undergraduates\"]. \n",
    "\n",
    "We will add the prefix \"allows_\" to the landlord columns, change nulls to 1 (it is assumed that aspects are allowed if not mentioned), and create a new column named \"has_tenant_restrictions\". 'Smoking' and 'Occasional overnight guests' we will not include, as they are behaviours, and not something a person is/has."
   ]
  },
  {
   "cell_type": "code",
   "execution_count": 1628,
   "id": "bf0169c7-bb8b-4983-9362-08c458295b22",
   "metadata": {},
   "outputs": [],
   "source": [
    "cols_tenant_restrictions = cols_tenant_restrictions + [\"Pets\", \"Postgraduates\", \n",
    "                                                       \"Full-time employees\", \"Undergraduates\"]\n",
    "\n",
    "df, cols_tenant_restrictions = group_cols (df, cols_tenant_restrictions, \"allows_\", \n",
    "                                           \"has_tenant_restrictions\")\n",
    "\n",
    "for col in [col for col in cols_tenant_restrictions if \"only\" not in col]:\n",
    "    df[col] = np.where(df[col].isnull(), 1, df[col])\n",
    "    \n",
    "for col in [col for col in cols_tenant_restrictions if \"only\" in col]:\n",
    "    df[col] = np.where(df[col].isnull(), 0, df[col])\n",
    "\n",
    "with_prefix = [(x, \"allows_\" + x) for x in ['Smoking', 'Occasional overnight guests']]\n",
    "df = df.rename(columns = dict(with_prefix))"
   ]
  },
  {
   "cell_type": "markdown",
   "id": "35c690be-1d8f-4fee-9e2b-fbe1bc6d42b0",
   "metadata": {},
   "source": [
    "## Columns with only one value\n",
    "\n",
    "If a column only has one value and no nulls, we will drop that column; if a column only has one value and nulls, we will replace the nulls with 0."
   ]
  },
  {
   "cell_type": "code",
   "execution_count": 1629,
   "id": "c8353a8f-4ee9-4121-bf1e-5f5fdbad8e7b",
   "metadata": {},
   "outputs": [],
   "source": [
    "for col in df.columns:\n",
    "    values = df[col].value_counts()\n",
    "    if len(values) <= 1:\n",
    "        if values.sum() == len(df):\n",
    "            df = df.drop(col, axis=1)\n",
    "        else:\n",
    "            df[col] = np.where(df[col].isnull(), 0, df[col])"
   ]
  },
  {
   "cell_type": "markdown",
   "id": "c5153939-3428-486b-8382-31658f7d4e76",
   "metadata": {},
   "source": [
    "## Columns regarding price\n",
    "\n",
    "This would be price, Security deposit, Extra per tenant."
   ]
  },
  {
   "cell_type": "markdown",
   "id": "171fd675-e25b-46ba-abab-e85787d8e47d",
   "metadata": {},
   "source": [
    "### First look"
   ]
  },
  {
   "cell_type": "code",
   "execution_count": 1630,
   "id": "e772a6ed-4619-4561-8bd6-42a524094f4d",
   "metadata": {},
   "outputs": [
    {
     "name": "stdout",
     "output_type": "stream",
     "text": [
      "<class 'pandas.core.frame.DataFrame'>\n",
      "Int64Index: 959 entries, 0 to 958\n",
      "Data columns (total 4 columns):\n",
      " #   Column            Non-Null Count  Dtype \n",
      "---  ------            --------------  ----- \n",
      " 0   price             959 non-null    int64 \n",
      " 1   Security deposit  958 non-null    object\n",
      " 2   Holding deposit   959 non-null    object\n",
      " 3   Extra per tenant  258 non-null    object\n",
      "dtypes: int64(1), object(3)\n",
      "memory usage: 69.8+ KB\n"
     ]
    }
   ],
   "source": [
    "cols_price = [\"price\", \"Security deposit\", \"Holding deposit\", \"Extra per tenant\"]\n",
    "df[cols_price].info()"
   ]
  },
  {
   "cell_type": "code",
   "execution_count": 1631,
   "id": "bf796549-40d5-4ceb-8528-ec82b02206ef",
   "metadata": {},
   "outputs": [
    {
     "data": {
      "text/plain": [
       "array([[<AxesSubplot:title={'center':'price'}>]], dtype=object)"
      ]
     },
     "execution_count": 1631,
     "metadata": {},
     "output_type": "execute_result"
    },
    {
     "data": {
      "image/png": "[encoded data removed]",
      "text/plain": [
       "<Figure size 432x288 with 1 Axes>"
      ]
     },
     "metadata": {
      "needs_background": "light"
     },
     "output_type": "display_data"
    }
   ],
   "source": [
    "df.hist(\"price\")"
   ]
  },
  {
   "cell_type": "code",
   "execution_count": 1632,
   "id": "5a47fd63-ea6c-424b-843c-6b7f9f0f05f4",
   "metadata": {},
   "outputs": [
    {
     "data": {
      "text/plain": [
       "€90/month     145\n",
       "€100/month     44\n",
       "€50/month      26\n",
       "€150/month      9\n",
       "€120/month      5\n",
       "Name: Extra per tenant, dtype: int64"
      ]
     },
     "execution_count": 1632,
     "metadata": {},
     "output_type": "execute_result"
    }
   ],
   "source": [
    "df[\"Extra per tenant\"].value_counts().head(5)"
   ]
  },
  {
   "cell_type": "code",
   "execution_count": 1633,
   "id": "92290fa3-ec49-43c9-906b-9b96e3c04ba9",
   "metadata": {},
   "outputs": [
    {
     "data": {
      "text/plain": [
       "Equal to first rent    648\n",
       "€597                    16\n",
       "€631                    16\n",
       "€620                    14\n",
       "€647                    12\n",
       "Name: Security deposit, dtype: int64"
      ]
     },
     "execution_count": 1633,
     "metadata": {},
     "output_type": "execute_result"
    }
   ],
   "source": [
    "df[\"Security deposit\"].value_counts().head(5)"
   ]
  },
  {
   "cell_type": "markdown",
   "id": "a36f7a2b-35c2-4aa3-86f6-873796c2907d",
   "metadata": {},
   "source": [
    "### Deposit columns"
   ]
  },
  {
   "cell_type": "code",
   "execution_count": 1634,
   "id": "2744c5b3-b356-42e0-96ba-b1554f07c815",
   "metadata": {},
   "outputs": [
    {
     "data": {
      "text/plain": [
       "0      958\n",
       "€50      1\n",
       "Name: Holding deposit, dtype: int64"
      ]
     },
     "execution_count": 1634,
     "metadata": {},
     "output_type": "execute_result"
    }
   ],
   "source": [
    "df[\"Holding deposit\"].value_counts()"
   ]
  },
  {
   "cell_type": "code",
   "execution_count": 1635,
   "id": "f2688d25-bd00-47a9-949e-7fc2f8136387",
   "metadata": {},
   "outputs": [
    {
     "data": {
      "text/plain": [
       "873    NaN\n",
       "Name: Security deposit, dtype: object"
      ]
     },
     "execution_count": 1635,
     "metadata": {},
     "output_type": "execute_result"
    }
   ],
   "source": [
    "df[\"Security deposit\"][df[\"Holding deposit\"] != 0]"
   ]
  },
  {
   "cell_type": "markdown",
   "id": "cf0a919c-7fdb-4da7-86e3-b10f7aa4b825",
   "metadata": {},
   "source": [
    "There is only a non-zero value at \"Holding deposit\" and it is also the only missing value in \"Security deposit\". Holding and security in this context have the same meaning."
   ]
  },
  {
   "cell_type": "code",
   "execution_count": 1636,
   "id": "a237b00b-3d67-469d-aed2-9febbab9b451",
   "metadata": {},
   "outputs": [],
   "source": [
    "df.loc[873, \"Security deposit\"] = df.loc[873, \"Holding deposit\"]\n",
    "df = df.drop(\"Holding deposit\", axis=1)"
   ]
  },
  {
   "cell_type": "code",
   "execution_count": 1637,
   "id": "b521ba2f-73a0-4453-867e-7041bb3dd450",
   "metadata": {},
   "outputs": [],
   "source": [
    "col = \"Security deposit\"\n",
    "df[col] = np.where(df[col].str.contains(\"to first rent\") == True, \n",
    "                   df[\"price\"], df[col].str.replace(\"€\", \"\"))\n",
    "\n",
    "df[\"deposit_minus_price\"] = pd.to_numeric(df[col]) - df[\"price\"]\n",
    "df = df.drop(col, axis=1)"
   ]
  },
  {
   "cell_type": "markdown",
   "id": "8a8e445f-23ac-4a6e-bc53-557fd6037bed",
   "metadata": {},
   "source": [
    "### Extra tenant columns\n",
    "If missing it should be zero"
   ]
  },
  {
   "cell_type": "code",
   "execution_count": 1638,
   "id": "6f6401ab-eab0-4ec1-8e7b-9deebbb45ee2",
   "metadata": {},
   "outputs": [],
   "source": [
    "col = \"Extra per tenant\"\n",
    "df[col] = df[col][df[col].notnull() == True].str.extract('(\\d+)')\n",
    "df[col] = df[col].fillna(0)"
   ]
  },
  {
   "cell_type": "markdown",
   "id": "231b4087-f88c-401f-91ff-27025d3dc3ef",
   "metadata": {},
   "source": [
    "## Other rental conditions\n",
    "\n",
    "They are availabilityStarts, Contract, Bills, Cancellation policy, Cleaning Frequency, Minimum stay."
   ]
  },
  {
   "cell_type": "code",
   "execution_count": 1639,
   "id": "8979f7eb-1f71-47c7-88d3-a89ba8889d09",
   "metadata": {},
   "outputs": [],
   "source": [
    "cols_rental = [\"availabilityStarts\", \"Contract\", \"Bills\", \"Cancellation policy\", \n",
    "               \"Cleaning Frequency\", \"Minimum stay\", \"Admin fee\", \"Short term penalty\",\n",
    "              \"Requirements\"]"
   ]
  },
  {
   "cell_type": "markdown",
   "id": "8587618c-b558-4157-91bb-b169f6625c4e",
   "metadata": {},
   "source": [
    "### \"availabilityStarts\""
   ]
  },
  {
   "cell_type": "code",
   "execution_count": 1640,
   "id": "5ed47da4-46a1-4d5a-8f3b-a6f38dbaec7a",
   "metadata": {},
   "outputs": [
    {
     "data": {
      "text/plain": [
       "Fri Jul 01 2022 00:00:00 GMT+0100    287\n",
       "Wed Jan 12 2022 00:00:00 GMT+0000    255\n",
       "Tue Feb 01 2022 00:00:00 GMT+0000    110\n",
       "Tue Mar 01 2022 00:00:00 GMT+0000     72\n",
       "Wed Jun 01 2022 00:00:00 GMT+0100     47\n",
       "Name: availabilityStarts, dtype: int64"
      ]
     },
     "execution_count": 1640,
     "metadata": {},
     "output_type": "execute_result"
    }
   ],
   "source": [
    "df[cols_rental[0]].value_counts().head(5)"
   ]
  },
  {
   "cell_type": "markdown",
   "id": "7789252e-f40d-4b82-8f62-11c82a2e381a",
   "metadata": {},
   "source": [
    "Data was scraped on January of 2022, so we will assume that any date of January 2022 corresponds to \"available_immediately\". Lets also change data type to datetime."
   ]
  },
  {
   "cell_type": "code",
   "execution_count": 1641,
   "id": "79630be9-730b-4101-a34b-e0ab2bf253a6",
   "metadata": {},
   "outputs": [
    {
     "name": "stderr",
     "output_type": "stream",
     "text": [
      "/var/folders/wx/q2279p3x3yn9gnd65ws15bvr0000gp/T/ipykernel_2692/2830978522.py:1: FutureWarning: The default value of regex will change from True to False in a future version.\n",
      "  df[cols_rental[0]] = df[cols_rental[0]].str.replace(\" GMT\\+0100\", \"\")\n",
      "/var/folders/wx/q2279p3x3yn9gnd65ws15bvr0000gp/T/ipykernel_2692/2830978522.py:2: FutureWarning: The default value of regex will change from True to False in a future version.\n",
      "  df[cols_rental[0]] = df[cols_rental[0]].str.replace(\" GMT\\+0000\", \"\")\n"
     ]
    }
   ],
   "source": [
    "df[cols_rental[0]] = df[cols_rental[0]].str.replace(\" GMT\\+0100\", \"\")\n",
    "df[cols_rental[0]] = df[cols_rental[0]].str.replace(\" GMT\\+0000\", \"\")\n",
    "df[cols_rental[0]] = pd.to_datetime(df[cols_rental[0]], format='%a %b %d %Y %H:%M:%S')\n",
    "\n",
    "df[\"available_immediately\"] = np.where((df[cols_rental[0]].dt.year == 2022) \n",
    "                                        & (df[cols_rental[0]].dt.month == 1), 1, 0) "
   ]
  },
  {
   "cell_type": "markdown",
   "id": "acd3e4df-5868-4e1e-b19b-367c142d177d",
   "metadata": {},
   "source": [
    "### Other"
   ]
  },
  {
   "cell_type": "code",
   "execution_count": 1642,
   "id": "0dce9ed9-e21e-498d-ba27-3f050986cf43",
   "metadata": {},
   "outputs": [
    {
     "data": {
      "text/plain": [
       "Fortnightly    586\n",
       "Monthly        370\n",
       "Daily            3\n",
       "Name: Contract, dtype: int64"
      ]
     },
     "execution_count": 1642,
     "metadata": {},
     "output_type": "execute_result"
    }
   ],
   "source": [
    "df[cols_rental[1]].value_counts()"
   ]
  },
  {
   "cell_type": "code",
   "execution_count": 1643,
   "id": "f8868b7e-8712-441a-98b1-6a0aaf55f8e6",
   "metadata": {},
   "outputs": [
    {
     "data": {
      "text/plain": [
       "Included         837\n",
       "Some included     90\n",
       "Not included      32\n",
       "Name: Bills, dtype: int64"
      ]
     },
     "execution_count": 1643,
     "metadata": {},
     "output_type": "execute_result"
    }
   ],
   "source": [
    "df[cols_rental[2]].value_counts()"
   ]
  },
  {
   "cell_type": "code",
   "execution_count": 1644,
   "id": "6746044f-71cd-4067-ae43-02d98e59533e",
   "metadata": {},
   "outputs": [
    {
     "data": {
      "text/plain": [
       "Moderate          941\n",
       "Strict             14\n",
       "Non-refundable      4\n",
       "Name: Cancellation policy, dtype: int64"
      ]
     },
     "execution_count": 1644,
     "metadata": {},
     "output_type": "execute_result"
    }
   ],
   "source": [
    "df[cols_rental[3]].value_counts()"
   ]
  },
  {
   "cell_type": "code",
   "execution_count": 1645,
   "id": "c18a4fdf-d5f6-424f-9f80-652cf29dc79f",
   "metadata": {},
   "outputs": [
    {
     "data": {
      "text/plain": [
       "Weekly           598\n",
       "None             186\n",
       "Not specified    125\n",
       "Monthly           28\n",
       "Daily             12\n",
       "Fortnightly       10\n",
       "Name: Cleaning Frequency, dtype: int64"
      ]
     },
     "execution_count": 1645,
     "metadata": {},
     "output_type": "execute_result"
    }
   ],
   "source": [
    "df[cols_rental[4]].value_counts()"
   ]
  },
  {
   "cell_type": "markdown",
   "id": "ae330302-f847-4168-9e32-dbd91c7b5d3c",
   "metadata": {},
   "source": [
    "We will join \"none\" and \"not specified\" in column none."
   ]
  },
  {
   "cell_type": "code",
   "execution_count": 1646,
   "id": "90d1733c-a293-48e5-9481-449ce596558e",
   "metadata": {},
   "outputs": [],
   "source": [
    "df[cols_rental[4]] = np.where(df[cols_rental[4]] == \"None\", \"Not specified\", df[cols_rental[4]])"
   ]
  },
  {
   "cell_type": "code",
   "execution_count": 1647,
   "id": "8536e1a5-a22f-4806-b89a-3c3983194ddd",
   "metadata": {},
   "outputs": [
    {
     "data": {
      "text/plain": [
       "27 nights     451\n",
       "90 nights     147\n",
       "118 nights     92\n",
       "145 nights     68\n",
       "Name: Minimum stay, dtype: int64"
      ]
     },
     "execution_count": 1647,
     "metadata": {},
     "output_type": "execute_result"
    }
   ],
   "source": [
    "df[cols_rental[5]].value_counts().head(4)"
   ]
  },
  {
   "cell_type": "code",
   "execution_count": 1648,
   "id": "f86e2c56-d667-4610-9a6d-c91250d7c2bd",
   "metadata": {},
   "outputs": [],
   "source": [
    "df[cols_rental[5]] = df[cols_rental[5]][df[cols_rental[5]].notnull() == True].str.extract('(\\d+)')\n",
    "df = df.rename(columns = {cols_rental[5] : \"min_stay_nights\"})"
   ]
  },
  {
   "cell_type": "code",
   "execution_count": 1649,
   "id": "fb6f907b-5122-41e2-92e4-2e3b0da766b9",
   "metadata": {},
   "outputs": [
    {
     "data": {
      "text/plain": [
       "€50/one-time fee     138\n",
       "€28/one-time fee      10\n",
       "€45/one-time fee       7\n",
       "€40/one-time fee       7\n",
       "€100/one-time fee      5\n",
       "€25/one-time fee       3\n",
       "€160/one-time fee      2\n",
       "€74/one-time fee       1\n",
       "€42/one-time fee       1\n",
       "Name: Admin fee, dtype: int64"
      ]
     },
     "execution_count": 1649,
     "metadata": {},
     "output_type": "execute_result"
    }
   ],
   "source": [
    "df[cols_rental[6]].value_counts()#.head(4)"
   ]
  },
  {
   "cell_type": "code",
   "execution_count": 1650,
   "id": "18045c49-f55d-4e41-b8f7-407b57e26182",
   "metadata": {},
   "outputs": [],
   "source": [
    "df[cols_rental[6]] = df[cols_rental[6]][df[cols_rental[6]].notnull() == True].str.extract('(\\d+)')\n",
    "df[cols_rental[6]] = df[cols_rental[6]].fillna(0)\n",
    "df = df.rename(columns = {cols_rental[6] : \"one_time_fee\"})"
   ]
  },
  {
   "cell_type": "code",
   "execution_count": 1651,
   "id": "91205060-ffcc-4119-bb58-ceb308dd8436",
   "metadata": {},
   "outputs": [
    {
     "data": {
      "text/plain": [
       "90 days     9\n",
       "62 days     6\n",
       "30 days     3\n",
       "60 days     2\n",
       "180 days    1\n",
       "Name: Short term penalty, dtype: int64"
      ]
     },
     "execution_count": 1651,
     "metadata": {},
     "output_type": "execute_result"
    }
   ],
   "source": [
    "df[cols_rental[7]].value_counts()#.head(4)"
   ]
  },
  {
   "cell_type": "code",
   "execution_count": 1652,
   "id": "dfb3982f-85fc-40eb-9614-ad16182bbb50",
   "metadata": {},
   "outputs": [],
   "source": [
    "df[cols_rental[7]] = df[cols_rental[7]][df[cols_rental[7]].notnull() == True].str.extract('(\\d+)')\n",
    "df[cols_rental[7]] = df[cols_rental[7]].fillna(0)\n",
    "df = df.rename(columns = {cols_rental[7] : \"short_term_penalty_days\"})"
   ]
  },
  {
   "cell_type": "code",
   "execution_count": 1653,
   "id": "ff4990a5-5da1-4230-8b4b-a9a3bf1138f1",
   "metadata": {},
   "outputs": [
    {
     "data": {
      "text/plain": [
       "Offline ID          7\n",
       "Renting contract    1\n",
       "Name: Requirements, dtype: int64"
      ]
     },
     "execution_count": 1653,
     "metadata": {},
     "output_type": "execute_result"
    }
   ],
   "source": [
    "df[cols_rental[8]].value_counts()#.head(4)"
   ]
  },
  {
   "cell_type": "markdown",
   "id": "ee6991b1-50a1-4bac-a141-b8bd3f9b2fbe",
   "metadata": {},
   "source": [
    "Due to the scarce non null values and/or low diversity, from the abridged version the columns \n",
    "[\"Cancellation policy\", \"Short term penalty\", \"Requirements\"] will be dropped."
   ]
  },
  {
   "cell_type": "markdown",
   "id": "f4ebf57c-05d5-41ef-96e7-de8d94b79388",
   "metadata": {},
   "source": [
    "## Change datatypes\n",
    "\n",
    "cols_to_float should be numerical, while cols_to_int should be binary (0 or 1)."
   ]
  },
  {
   "cell_type": "code",
   "execution_count": 1654,
   "id": "84715dd9-6a34-4f51-8fc9-2959bf4fdb7a",
   "metadata": {},
   "outputs": [
    {
     "data": {
      "text/plain": [
       "82"
      ]
     },
     "execution_count": 1654,
     "metadata": {},
     "output_type": "execute_result"
    }
   ],
   "source": [
    "len(cols_to_float) + len(cols_to_int)"
   ]
  },
  {
   "cell_type": "code",
   "execution_count": 1655,
   "id": "0235cdcf-0b5b-4a3d-86c3-43632ea85bc0",
   "metadata": {},
   "outputs": [],
   "source": [
    "cols_to_float = ['price', 'Extra per tenant', 'one_time_fee', 'Floor_plan_m2', \n",
    "                 'Bedroom_area_m2', 'deposit_minus_price', 'n_thumbnails',\n",
    "                 'min_stay_nights', 'short_term_penalty_days']\n",
    "\n",
    "cols_to_int = ['rating', 'allows_Occasional overnight guests', 'allows_Pets', 'allows_Smoking',\n",
    "               'Wardrobe', 'Desk', 'Chairs', 'Towels', 'Bed linen','Window', 'Sofa', \n",
    "               'Sofa bed', 'Balcony', 'Wi-Fi', 'Cable Tv', 'Central heating', 'Air conditioning', \n",
    "               'Outdoor area', 'Towels & bed linen', 'Elevator', 'Accessibility', 'Toilet', 'Sink', \n",
    "               'Shower', 'Bathtub', 'Fridge', 'Freezer', 'Stove', 'Oven', 'Microwave', \n",
    "               'Washing machine', 'Dishes & cutlery', 'Pots & pans', 'Coffee table', 'Table', \n",
    "               'Tv', 'Chest of drawers', 'Door lock', 'Dryer', 'Dishwasher', \n",
    "               'landlord_Female, 26-30 years old', 'landlord_Professional', 'landlord_Lives with family', 'landlord_Has pets', \n",
    "               'allows_Postgraduates', 'landlord_Female, 40+ years old', \n",
    "               'allows_Full-time employees','allows_Female only', 'allows_Undergraduates', \n",
    "               'allows_Domestic students', 'allows_Male only', \n",
    "               'allows_International students', 'landlord_Female, 18-25 years old',\n",
    "               'landlord_Undergraduate student', 'landlord_Male, 31-40 years old',\n",
    "               'landlord_Male, 40+ years old', 'Enclosed balcony', 'landlord_Female',\n",
    "               'landlord_Female, 31-40 years old', 'landlord_Male',\n",
    "               'landlord_Postgraduate student', 'landlord_Male, 18-25 years old','has_private_bathroom',\n",
    "               'landlord_lives_here', 'has_tenant_restrictions',\n",
    "               'available_immediately', 'n_people', 'n_Dining Rooms', 'n_Kitchens',\n",
    "               'n_living_rooms', 'n_wcs', 'n_single_beds', 'n_double_beds', 'n_bedrooms', 'n_bathrooms']"
   ]
  },
  {
   "cell_type": "markdown",
   "id": "4b2466f8-6f8f-4f53-b8d1-40185482cbec",
   "metadata": {},
   "source": [
    "For the cols_to_int it is best to fillna with 0."
   ]
  },
  {
   "cell_type": "code",
   "execution_count": 1656,
   "id": "dcd66b8e-bacd-4b0b-b696-31e8810561ab",
   "metadata": {},
   "outputs": [],
   "source": [
    "df = df.replace(to_replace='True', value=True)\n",
    "df = df.replace(to_replace='False', value=False)\n",
    "\n",
    "df[cols_to_int] = df[cols_to_int].fillna(0).astype(int)\n",
    "df[cols_to_float] = df[cols_to_float].astype(float)"
   ]
  },
  {
   "cell_type": "markdown",
   "id": "9eee99da-6253-4c51-a6fd-f2d6d506f256",
   "metadata": {},
   "source": [
    "## Drop cols for abridged version"
   ]
  },
  {
   "cell_type": "code",
   "execution_count": 1658,
   "id": "0e1c15c4-f242-4948-ab3f-5457de151652",
   "metadata": {},
   "outputs": [],
   "source": [
    "df_abridged = df.copy()"
   ]
  },
  {
   "cell_type": "code",
   "execution_count": 1659,
   "id": "9f0715f1-6e9a-434d-93f3-d430a7da8e6b",
   "metadata": {},
   "outputs": [],
   "source": [
    "cols_to_drop = ['photo_url', 'availabilityStarts', \"Cancellation policy\", 'short_term_penalty_days', \n",
    "                \"Requirements\", \"n_Dining Rooms\", 'n_wcs', 'n_Kitchens'] \n",
    "\n",
    "df_abridged = df_abridged.drop(cols_landlord + cols_tenant_restrictions +\n",
    "                               cols_to_drop, axis=1)"
   ]
  },
  {
   "cell_type": "code",
   "execution_count": 1660,
   "id": "fb3551f9-68e5-49e4-b9a7-620a8819bd90",
   "metadata": {},
   "outputs": [],
   "source": [
    "df.to_csv(\"scraped_data/scrapping_cleaned_long.csv\", index=True)\n",
    "df_abridged.to_csv(\"scraped_data/scrapping_cleaned_abridged.csv\", \n",
    "                   index=True)"
   ]
  }
 ],
 "metadata": {
  "kernelspec": {
   "display_name": "Python 3 (ipykernel)",
   "language": "python",
   "name": "python3"
  },
  "language_info": {
   "codemirror_mode": {
    "name": "ipython",
    "version": 3
   },
   "file_extension": ".py",
   "mimetype": "text/x-python",
   "name": "python",
   "nbconvert_exporter": "python",
   "pygments_lexer": "ipython3",
   "version": "3.9.7"
  }
 },
 "nbformat": 4,
 "nbformat_minor": 5
}

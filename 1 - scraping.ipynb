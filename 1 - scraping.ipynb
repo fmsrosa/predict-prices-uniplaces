{
 "cells": [
  {
   "cell_type": "markdown",
   "id": "84ec8793-3428-4679-8cb0-b154cd83fa47",
   "metadata": {},
   "source": [
    "# Uniplaces"
   ]
  },
  {
   "cell_type": "markdown",
   "id": "2e758068-32c1-465b-b5b7-585a71a1dbbd",
   "metadata": {},
   "source": [
    "## Context\n",
    "\n",
    "We want to extract data regarding listings of private rooms in Lisbon from Uniplaces.\n",
    "\n",
    "Uniplaces uses Javascript, meaning that approaches using BeautifulSoup do not work. \n",
    "We will use Selenimium to scrape the data of the first 20 pages of listings."
   ]
  },
  {
   "cell_type": "markdown",
   "id": "ae589c61-1bc1-4690-8f40-957d18e7aef4",
   "metadata": {},
   "source": [
    "## Conclusions \n",
    "(also at the end)\n",
    "\n",
    "This was my first proper experience using Selenium. I think I learned the basics and maybe a little more, as Uniplaces heavily relies on javacript and even on cases where I could avoided it and use something like BeautifulSoup or string functions, I made an effort of using Selenium. \n",
    "\n",
    "I was able to consistently extract all the data from the listings.\n",
    "\n",
    "Still, there are a some of things that I would have done different:\n",
    "\n",
    "1. **Learn about WebDriverWait:** When I started I was not aware of the WebDriverWait function and its need. As a result, my code looks a bit \"sewn\" together. If I knew, I would have created generic functions before.\n",
    "2. **Learn about location and expections:** The same thing goes for location functions, which I found are only needed for some listings, and expections, particularly expected conditions.\n",
    "3. **Do generic functions sooner:** The cards of the listings are not that different. I would have created more generic functions. \n",
    "4. **Scrape random listings:** I noticed that the scrapping could lead to a high amount of variables and used some techniques to reduced. However, I was not very efficient, as I was not aware of for example, how some variables may have \"No photos\" substring. I could have scrapped random listings first to identify possible problems like this. Still, it is easier and faster to clean the dataframe than scrape the data again.\n",
    "5. **Learn to bypass request limits:** Fortunately, Uniplaces does not seem to limit the amount of requests made. If I do this again, I will look into how to bypass such limits (while not doing anything illegal).\n",
    "6. **Prepare for listings removed:** I would have prepare in case the listing was removed (this only happened once in all 20 pages). \n",
    "7. **Include name of card in key:** For example, \"student\" can be regarding the tenant or the landlord, and I did not account for that.\n",
    "\n",
    "The extraction of almost all the data from the listings led to a very complete, perhaps too complete, dataset. This is not uncommon, given that I did not have a problem/question in mind while acquiring data. As such, I scraped as much data as possible, which led to an overcomplicated dataset. \n",
    "But that is okay, case I get to show that I can clean a dataset!\n",
    "\n",
    "Overall, this notebook was a success."
   ]
  },
  {
   "cell_type": "markdown",
   "id": "432ce978-debc-421b-a196-0e889a775d5b",
   "metadata": {},
   "source": [
    "### Import libraries"
   ]
  },
  {
   "cell_type": "code",
   "execution_count": 1,
   "id": "c50e4184-54e6-4933-8726-eb23a217916d",
   "metadata": {},
   "outputs": [],
   "source": [
    "import pandas as pd\n",
    "import re\n",
    "\n",
    "#Selenium\n",
    "from selenium import webdriver\n",
    "from webdriver_manager.chrome import ChromeDriverManager # we will use Chrome\n",
    "from selenium.webdriver.common.keys import Keys\n",
    "from selenium.webdriver.common.by import By\n",
    "from selenium.webdriver.support.ui import WebDriverWait\n",
    "from selenium.webdriver.support import expected_conditions as EC\n",
    "from selenium.common.exceptions import NoSuchElementException\n",
    "\n",
    "import time"
   ]
  },
  {
   "cell_type": "code",
   "execution_count": null,
   "id": "9dd3955b-90d9-4cb9-80e3-1892807ae4ac",
   "metadata": {},
   "outputs": [],
   "source": [
    "#driver.quit()"
   ]
  },
  {
   "cell_type": "markdown",
   "id": "5d7b9666-f95e-4974-b17f-4d11ec72299f",
   "metadata": {},
   "source": [
    "## Open main page\n",
    "\n",
    "One thing we need to be careful, particularly when using the run all cells option, is to wait between calls. \n",
    "As a result, all function will have a "
   ]
  },
  {
   "cell_type": "code",
   "execution_count": 2,
   "id": "37ea44a7-0de8-4049-a6dc-e18732b287eb",
   "metadata": {},
   "outputs": [],
   "source": [
    "def open_url (url):\n",
    "    driver = webdriver.Chrome(ChromeDriverManager().install())\n",
    "    driver.get(url)\n",
    "    driver.maximize_window()\n",
    "    return driver, driver.window_handles[0]"
   ]
  },
  {
   "cell_type": "code",
   "execution_count": 3,
   "id": "577209d9-ebc8-4695-a176-0cb43bd4d63f",
   "metadata": {},
   "outputs": [
    {
     "name": "stderr",
     "output_type": "stream",
     "text": [
      "\n",
      "\n",
      "====== WebDriver manager ======\n",
      "Current google-chrome version is 97.0.4692\n",
      "Get LATEST chromedriver version for 97.0.4692 google-chrome\n",
      "Trying to download new driver from https://chromedriver.storage.googleapis.com/97.0.4692.71/chromedriver_mac64.zip\n",
      "Driver has been saved in cache [/Users/frosa/.wdm/drivers/chromedriver/mac64/97.0.4692.71]\n"
     ]
    }
   ],
   "source": [
    "url = 'https://www.uniplaces.com/'\n",
    "driver, parent_handle = open_url (url)"
   ]
  },
  {
   "cell_type": "markdown",
   "id": "5c663dff-21e8-429b-bae0-7e504dd88461",
   "metadata": {},
   "source": [
    "## Find listings"
   ]
  },
  {
   "cell_type": "markdown",
   "id": "858f157d-7421-4943-b6b4-170462c1b0b8",
   "metadata": {},
   "source": [
    "### Use search box\n",
    "\n",
    "The search box and button elements were found by inspecting the page (right-click on search box -> inspect).\n",
    "They are of type class, as it is usually the case, so the function is defined assuming the class type.\n",
    "The element and button may change over time to avoid exactly web scrapping."
   ]
  },
  {
   "cell_type": "code",
   "execution_count": 4,
   "id": "73eb2292-1aa4-4d6f-abf2-6e41c3a2d0df",
   "metadata": {},
   "outputs": [],
   "source": [
    "def write_search (driver, place, button = \"styles__Button-sc-1qpfiqz-1\", \n",
    "                  element=\"SearchBar_search-bar__input__1vHez\", wait=5):\n",
    "    \n",
    "    search_box = WebDriverWait(driver, wait).until(EC.presence_of_element_located((By.CLASS_NAME, element)))\n",
    "    search_box.send_keys(place)\n",
    "    \n",
    "    search_button = WebDriverWait(driver, wait).until(EC.element_to_be_clickable((By.CLASS_NAME, button)))\n",
    "    time.sleep(wait) # this is needed\n",
    "    search_button.click()  "
   ]
  },
  {
   "cell_type": "code",
   "execution_count": 5,
   "id": "db03d1ad-89e2-4807-843b-95f3fcde4571",
   "metadata": {},
   "outputs": [],
   "source": [
    "write_search (driver, 'Lisbon')"
   ]
  },
  {
   "cell_type": "markdown",
   "id": "ebe90c33-bb6c-45e4-b43d-e5b254270eee",
   "metadata": {},
   "source": [
    "### Check filters\n",
    "\n",
    "We want to check only the filter 'Private bedrooms'. To check it in the browser we can click anywhere in its tile, including the label, and inspect it. Then XPATH is, as far as I know, the most generic way to proceed. In this case CSS_SELECTOR would also work."
   ]
  },
  {
   "cell_type": "code",
   "execution_count": 6,
   "id": "390382a3-f359-43a0-ac41-1ffa485f65de",
   "metadata": {},
   "outputs": [],
   "source": [
    "def click_button_xpath (driver, xpath, wait=10):\n",
    "    #filt = WebDriverWait(driver, wait).until(EC.presence_of_element_located((By.XPATH, xpath)))\n",
    "    \n",
    "    button = WebDriverWait(driver, 10).until(EC.element_to_be_clickable((By.XPATH, xpath)))\n",
    "    button.click()"
   ]
  },
  {
   "cell_type": "code",
   "execution_count": 7,
   "id": "dd7cd56c-8979-444f-aeb0-63025f3173d4",
   "metadata": {},
   "outputs": [],
   "source": [
    "xpath = \"//div[label/@for='rent-type-unit']\"\n",
    "click_button_xpath (driver, xpath)"
   ]
  },
  {
   "cell_type": "markdown",
   "id": "79b5195f-f9a1-40d2-91f9-e9eb3907a26d",
   "metadata": {},
   "source": [
    "### Individual listings\n",
    "\n",
    "By inspecting the elements in the page, we see that we can easily get the links of each listing. However, this is not always the case, particularly in pages involving javascript.\n",
    "There are two ways to proceed:\n",
    "\n",
    "1. We get the links of each individual listing, and use the driver.get() method as before.\n",
    "2. We click on a given link, extract the data we want, go back to the previous page (showing all the listings), and do the same with the next link.\n",
    "\n",
    "We will use approach 2, but in any case here it is how approach 1 would work."
   ]
  },
  {
   "cell_type": "markdown",
   "id": "3a30cb5f-2479-448c-95a4-881a6b833b50",
   "metadata": {},
   "source": [
    "#### Fetch links (way 1)"
   ]
  },
  {
   "cell_type": "code",
   "execution_count": 10,
   "id": "9d434c95-8948-464c-a8a7-ccee874388f5",
   "metadata": {},
   "outputs": [],
   "source": [
    "# approach 1 - this is just for the current page\n",
    "def fetch_urls (driver, element=\"sc-dqBHgY\", xpath = \"a[@href]\", attribute=\"href\", wait=5):\n",
    "    urls = []\n",
    "    driver.switch_to.window(window)\n",
    "\n",
    "    clas = WebDriverWait(driver, wait).until(EC.presence_of_element_located((By.CLASS_NAME, element)))\n",
    "    hrefs = clas.find_elements(By.XPATH, xpath)\n",
    "\n",
    "    for href in hrefs:\n",
    "        urls.append(href.get_attribute(\"href\"))\n",
    "\n",
    "    return urls # this is a list"
   ]
  },
  {
   "cell_type": "markdown",
   "id": "84b554d8-e6d5-4c07-b954-b48d1a3f20cb",
   "metadata": {},
   "source": [
    "#### Fetch listings (way 2)"
   ]
  },
  {
   "cell_type": "code",
   "execution_count": 9,
   "id": "1f110b80-5a3c-4d1e-a285-04f4b4676b50",
   "metadata": {},
   "outputs": [],
   "source": [
    "# approach 2 - this is just for the current page\n",
    "def fetch_listings (driver, element=\"sc-dqBHgY\", tag = \"a\", wait=5, window = parent_handle):\n",
    "    driver.switch_to.window(window)\n",
    "    clas = WebDriverWait(driver, wait).until(EC.presence_of_element_located((By.CLASS_NAME, element)))\n",
    "    return clas.find_elements(By.TAG_NAME, tag) # this is a list"
   ]
  },
  {
   "cell_type": "markdown",
   "id": "1815f834-9479-483a-8f84-c269b3723d36",
   "metadata": {},
   "source": [
    "#### Open listing \n",
    "\n",
    "The following opens a given ad in a new tab (Uniplaces is defined as such) and return the handle. The handle will be useful to make sure we close the correct window. "
   ]
  },
  {
   "cell_type": "code",
   "execution_count": 11,
   "id": "025f30e9-ecee-4a32-83bf-1a19b6221d36",
   "metadata": {},
   "outputs": [],
   "source": [
    "def open_ad (driver, listing):\n",
    "    listing.location_once_scrolled_into_view\n",
    "    listing.click()\n",
    "    ad_handle = driver.window_handles[-1]\n",
    "    driver.switch_to.window(ad_handle)\n",
    "    return ad_handle"
   ]
  },
  {
   "cell_type": "code",
   "execution_count": 12,
   "id": "1b1e71a6-c249-4ed2-a716-e1f8713762ae",
   "metadata": {},
   "outputs": [],
   "source": [
    "# listings from current page\n",
    "listings = fetch_listings(driver)"
   ]
  },
  {
   "cell_type": "code",
   "execution_count": 13,
   "id": "543fecd7-8647-472f-a3db-a4a111a1c722",
   "metadata": {},
   "outputs": [],
   "source": [
    "ad_handle = open_ad (driver, listings[0])"
   ]
  },
  {
   "cell_type": "markdown",
   "id": "b281c1a4-ba03-4bd4-ba7f-3f7f40e35e0e",
   "metadata": {},
   "source": [
    "### Generic functions\n",
    "\n",
    "Lets create some generic functions long the way (we should probably have done it before, but live and learn)."
   ]
  },
  {
   "cell_type": "code",
   "execution_count": 14,
   "id": "21001d58-6384-40ce-bd79-58f7defb7532",
   "metadata": {},
   "outputs": [],
   "source": [
    "def find_by_class_el(section, el):\n",
    "    try:\n",
    "        element = section.find_element(By.CLASS_NAME, el)\n",
    "    except NoSuchElementException:\n",
    "        return \"Does not exist\"\n",
    "    return element"
   ]
  },
  {
   "cell_type": "code",
   "execution_count": 15,
   "id": "96a77be6-a09a-4e2c-b777-02975b15b257",
   "metadata": {},
   "outputs": [],
   "source": [
    "def find_by_class_els(section, el):\n",
    "    try:\n",
    "        element = section.find_elements(By.CLASS_NAME, el)\n",
    "    except NoSuchElementException:\n",
    "        return \"Does not exist\"\n",
    "    return element"
   ]
  },
  {
   "cell_type": "code",
   "execution_count": 16,
   "id": "41082b2a-ffc5-4828-be58-a112d9d35564",
   "metadata": {},
   "outputs": [],
   "source": [
    "def find_by_xpath(section, el):\n",
    "    try:\n",
    "        element = section.find_elements(By.XPATH, el)\n",
    "    except NoSuchElementException:\n",
    "        return \"Does not exist\"\n",
    "    return element"
   ]
  },
  {
   "cell_type": "code",
   "execution_count": 17,
   "id": "2b419c57-8d52-4713-adb3-3cf8b9f612fe",
   "metadata": {},
   "outputs": [],
   "source": [
    "def find_by_tag(section, el):\n",
    "    try:\n",
    "        element = section.find_elements(By.TAG_NAME, el)\n",
    "    except NoSuchElementException:\n",
    "        return \"Does not exist\"\n",
    "    return element"
   ]
  },
  {
   "cell_type": "code",
   "execution_count": 18,
   "id": "00f48edc-1dca-4ce8-affc-0d8fd9a4dfeb",
   "metadata": {},
   "outputs": [],
   "source": [
    "def find_by_id(section, el):\n",
    "    try:\n",
    "        element = section.find_element(By.ID, el)\n",
    "    except NoSuchElementException:\n",
    "        return \"Does not exist\"\n",
    "    return element"
   ]
  },
  {
   "cell_type": "code",
   "execution_count": 19,
   "id": "06c32852-0e81-4c8c-a7a9-1074e5897cbc",
   "metadata": {},
   "outputs": [],
   "source": [
    "def make_dict_attributes (lst, attr1, attr2):\n",
    "    dct = {}\n",
    "    for item in lst:\n",
    "        dct[item.get_attribute(attr1)] = item.get_attribute(attr2)\n",
    "    return dct"
   ]
  },
  {
   "cell_type": "markdown",
   "id": "f333dbbe-70cf-4874-9215-12724ab81201",
   "metadata": {
    "tags": []
   },
   "source": [
    "### Gather data from listing (step-by-step)\n",
    "\n",
    "In the listing page, the information about the  offer is inside the class \"offer-page__container\".\n",
    "It has several div fields, where each one seems to be regarding a specific information/section of the page."
   ]
  },
  {
   "cell_type": "code",
   "execution_count": 20,
   "id": "8d449425-8a77-4e57-8580-acca09b66123",
   "metadata": {},
   "outputs": [
    {
     "name": "stdout",
     "output_type": "stream",
     "text": [
      "We have 11 div tags:\n",
      "Tag: [What it is, What we want]\n"
     ]
    },
    {
     "data": {
      "text/plain": [
       "{'ember37': ['Main photo, thumbnails, review data, header data and buttons',\n",
       "  'Main photo url, number of thumbnails, review data, header data'],\n",
       " 'ember39': ['Price, availability and url', 'Price, availability and url'],\n",
       " 'ember41': ['Rules card', 'Aspects listed, existing/missing'],\n",
       " 'ember43': ['Landlord card', 'Aspects listed, existing/missing'],\n",
       " 'ember45': ['Bedroom card', 'Aspects listed, existing/missing'],\n",
       " 'ember47': ['Place card', 'Description, aspects listed, existing/missing'],\n",
       " 'ember49': ['Rental card', 'Aspects listed'],\n",
       " 'ember51': ['About the landlord card', 'Description, Aspects listed'],\n",
       " 'ember53': ['Reviews card', 'Description'],\n",
       " 'ember55': ['Neighborhood', 'Name'],\n",
       " 'ember57': ['Similar places', 'Number']}"
      ]
     },
     "execution_count": 20,
     "metadata": {},
     "output_type": "execute_result"
    }
   ],
   "source": [
    "offer = find_by_class_el (driver, \"offer-page__container\")\n",
    "tags = find_by_xpath(offer, \"div\") #this way we get only direct children\n",
    "\n",
    "tags_ids = [tag.get_attribute(\"id\") for tag in tags]\n",
    "\n",
    "print(\"We have {} div tags:\".format(len(tags_ids)))\n",
    "\n",
    "tags_mean_keep = {tags_ids[0]: [\"Main photo, thumbnails, review data, header data and buttons\", \n",
    "                            \"Main photo url, number of thumbnails, review data, header data\"],\n",
    "              tags_ids[1]: [\"Price, availability and url\", \n",
    "                            \"Price, availability and url\"],\n",
    "              tags_ids[2]: [\"Rules card\", \n",
    "                            \"Aspects listed, existing/missing\"], \n",
    "              tags_ids[3]: [\"Landlord card\", \n",
    "                            \"Aspects listed, existing/missing\"], \n",
    "              tags_ids[4]: [\"Bedroom card\", \n",
    "                            \"Aspects listed, existing/missing\"],    \n",
    "              tags_ids[5]: [\"Place card\", \n",
    "                            \"Description, aspects listed, existing/missing\"],              \n",
    "              tags_ids[6]: [\"Rental card\", \n",
    "                            \"Aspects listed\"],  \n",
    "              tags_ids[7]: [\"About the landlord card\", \n",
    "                            \"Description, Aspects listed\"],               \n",
    "              tags_ids[8]: [\"Reviews card\", \n",
    "                            \"Description\"],               \n",
    "              tags_ids[9]: [\"Neighborhood\", \n",
    "                            \"Name\"], \n",
    "              tags_ids[10]: [\"Similar places\", \n",
    "                            \"Number\"]            \n",
    "}\n",
    "\n",
    "print(\"Tag: [What it is, What we want]\")\n",
    "tags_mean_keep"
   ]
  },
  {
   "cell_type": "markdown",
   "id": "33538cef-fa56-4fc1-8180-63c7c39f52da",
   "metadata": {},
   "source": [
    "#### Title, main photo url, nr of thumbnails, overall rating, and header data"
   ]
  },
  {
   "cell_type": "code",
   "execution_count": 21,
   "id": "e9d56617-d96f-4613-b6c7-a62327a7b0c9",
   "metadata": {},
   "outputs": [],
   "source": [
    "def get_title (section, el = \"header__title\"):\n",
    "    section.location_once_scrolled_into_view\n",
    "    title = find_by_class_el (section, el)\n",
    "    return title.text \n",
    "\n",
    "def get_main_photo (section, el = \"header__main__photo\"):\n",
    "    section.location_once_scrolled_into_view\n",
    "    main_photo = find_by_class_el (section, el)\n",
    "    return main_photo.get_attribute(\"style\").split('\"')[1].split('\"')[0]   \n",
    "\n",
    "def get_nr_thumbnails (section, el = \"header__thumbnail__label\"):\n",
    "    section.location_once_scrolled_into_view\n",
    "    nr_thumbnails = find_by_class_el (section, el)\n",
    "    if nr_thumbnails == \"Does not exist\":\n",
    "        return \"2 or less\"\n",
    "    return nr_thumbnails.text.split(\" \")[0]\n",
    "\n",
    "def get_header_data (section, el = \"header__icon__label\"):\n",
    "    section.location_once_scrolled_into_view\n",
    "    headers = find_by_class_els (section, el)\n",
    "    return [x.text for x in headers]\n",
    "\n",
    "def get_rating_count (section, el = \"header__description__reviews__text\", tag = 'path',\n",
    "                     yellow = '#F6A623'):\n",
    "    section.location_once_scrolled_into_view\n",
    "    n = find_by_class_el(section, el)\n",
    "\n",
    "    if type(n) == str or n.text != \"Reference\":\n",
    "        tags = find_by_tag(section, tag)\n",
    "        count = 0\n",
    "        for tag in tags:\n",
    "            if tag.get_attribute('fill') == yellow:\n",
    "                count = count + 1\n",
    "        if len(tags) == 6: #(the last is a half star)\n",
    "            count = count - 0.5\n",
    "    else:\n",
    "        count = 0\n",
    "        n = 0\n",
    "    \n",
    "    return count, n\n",
    "\n",
    "def get_overview (section):\n",
    "    \n",
    "    count, n = get_rating_count (section)\n",
    "    header_keys = [\"type\", \"n_people\", \"n_bedrooms\", \"n_bathrooms\"]\n",
    "    header_values = get_header_data (section)\n",
    "    header_dict = dict(zip(header_keys, header_values))\n",
    "    main_dict = {\"title\": get_title (section), \"photo_url\": get_main_photo(section), \"n_thumbnails\": get_nr_thumbnails(section),\n",
    "                 \"rating\": count, \"n_reviews\": n}\n",
    "    return {**main_dict, **header_dict}"
   ]
  },
  {
   "cell_type": "code",
   "execution_count": 22,
   "id": "d3fa10f4-b6ba-4e1c-91eb-8702b9359228",
   "metadata": {},
   "outputs": [
    {
     "data": {
      "text/plain": [
       "{'title': 'Cosy double bedroom in Intendente',\n",
       " 'photo_url': 'https://cdn-static-new.uniplaces.com/property-photos/8034137a169586fa7302d0cfb0ac9d29f26d756a41077c8d8212dd0fd08178b5/x-large.jpg',\n",
       " 'n_thumbnails': '23',\n",
       " 'rating': 5,\n",
       " 'n_reviews': <selenium.webdriver.remote.webelement.WebElement (session=\"9b63afb80fabae276be1c48ec05fc230\", element=\"672c70b4-8ca2-4456-b60f-030770a0c0f7\")>,\n",
       " 'type': 'Double bedroom',\n",
       " 'n_people': '1 person',\n",
       " 'n_bedrooms': '3-bedroom apartment',\n",
       " 'n_bathrooms': '1 Bathroom'}"
      ]
     },
     "execution_count": 22,
     "metadata": {},
     "output_type": "execute_result"
    }
   ],
   "source": [
    "card = find_by_id (offer, tags_ids[0])\n",
    "get_overview(card)"
   ]
  },
  {
   "cell_type": "markdown",
   "id": "fdc8d783-2277-4084-b1d1-d5b7c22412f2",
   "metadata": {},
   "source": [
    "#### Price, availability, and url"
   ]
  },
  {
   "cell_type": "code",
   "execution_count": 23,
   "id": "92481e5c-3be1-475a-9937-349e67b321e7",
   "metadata": {},
   "outputs": [],
   "source": [
    "def get_price_avail_data (driver, el=\"meta\", attr1='itemprop', attr2='content'):\n",
    "    price_avail_tags = find_by_tag (driver, el)\n",
    "    return make_dict_attributes (price_avail_tags, attr1, attr2)"
   ]
  },
  {
   "cell_type": "code",
   "execution_count": 24,
   "id": "840335d5-46cf-4d3c-975f-fbcc3cfe23dd",
   "metadata": {},
   "outputs": [
    {
     "data": {
      "text/plain": [
       "{'price': '380',\n",
       " 'priceCurrency': 'EUR',\n",
       " 'availabilityStarts': 'Sun Jan 16 2022 00:00:00 GMT+0000',\n",
       " 'availability': 'OnlineOnly',\n",
       " 'url': 'https://www.uniplaces.com/accommodation/lisbon/65494'}"
      ]
     },
     "execution_count": 24,
     "metadata": {},
     "output_type": "execute_result"
    }
   ],
   "source": [
    "card = find_by_id (offer, tags_ids[1])\n",
    "\n",
    "get_price_avail_data (card)"
   ]
  },
  {
   "cell_type": "markdown",
   "id": "4e67affe-4f45-4823-b5a6-9be68c1ae6b9",
   "metadata": {},
   "source": [
    "#### Rules, Landlord, Bedroom cards\n",
    "\n",
    "These cards are comprised of a title div and a card div.\n",
    "\n",
    "We will enter the card div, \"display-card__card\". As a result, there will be multiple classes named \"display-card__card\" within the page. That is why we search only inside the intended id.\n",
    "\n",
    "Moreover, cards can also have a More/Less button. We need to click it if it has the word \"More\".\n",
    "\n",
    "The non-existing/forbidden aspects are dimmed, and the word \"dimmed\" appears in their class."
   ]
  },
  {
   "cell_type": "code",
   "execution_count": 25,
   "id": "cc4560ac-ab2a-4b81-a00b-cbcb275868b0",
   "metadata": {},
   "outputs": [],
   "source": [
    "def click_if (driver, section, clas, wait=1):\n",
    "    button = find_by_class_el (section, clas)\n",
    "    if type(button) != str:\n",
    "        if 'more' in button.text.lower() or '+' in button.text:\n",
    "            time.sleep(wait)\n",
    "            # it has to be like this because with chrome the button is not always where it should be\n",
    "            driver.execute_script(\"arguments[0].click();\", button)"
   ]
  },
  {
   "cell_type": "code",
   "execution_count": 26,
   "id": "4364d1dd-4f75-4f73-9ac9-6ddacc95d2c9",
   "metadata": {},
   "outputs": [],
   "source": [
    "def get_items (driver, section, clas= \"display-card__card\", button=\"display-card__button\", \n",
    "               tag = \"div\", keyword = 'dimmed', attr = \"class\"):\n",
    "    \n",
    "    section.location_once_scrolled_into_view\n",
    "\n",
    "    click_if (driver, section, button)\n",
    "    \n",
    "    items_clas = find_by_class_el (section, clas)\n",
    "    if type(items_clas) == str:\n",
    "        return {}\n",
    "\n",
    "    items_tags = find_by_tag (items_clas, tag)\n",
    "\n",
    "    items_exist = [keyword not in item.get_attribute(attr) for item in items_tags]\n",
    "    items_text = [x.text for x in items_tags]\n",
    "\n",
    "    items_exist_dct = dict(zip(items_text, items_exist))\n",
    "    # remove empty keys \n",
    "    items_exist_dct = {k: v for k, v in items_exist_dct.items() if k}\n",
    "    # remove if it contains \\n (seems to happen if button exists)\n",
    "    items_exist_dct = {k: v for k, v in items_exist_dct.items() if '\\n' not in k}\n",
    "    #remove entry \"- Less features\" (seems to happen if button exists)\n",
    "    items_exist_dct = {k: v for k, v in items_exist_dct.items() if k != '- Less features'}\n",
    "    \n",
    "    return items_exist_dct"
   ]
  },
  {
   "cell_type": "markdown",
   "id": "db3d9786-60a5-4121-9537-d9db83565c49",
   "metadata": {},
   "source": [
    "##### Rules card"
   ]
  },
  {
   "cell_type": "code",
   "execution_count": 27,
   "id": "60862e28-a183-4a68-98dc-bf8121dd0433",
   "metadata": {},
   "outputs": [
    {
     "data": {
      "text/plain": [
       "{'Smoking': True, 'Occasional overnight guests': True, 'Pets': False}"
      ]
     },
     "execution_count": 27,
     "metadata": {},
     "output_type": "execute_result"
    }
   ],
   "source": [
    "card = find_by_id (offer, tags_ids[2])\n",
    "items = get_items (driver, card)\n",
    "items"
   ]
  },
  {
   "cell_type": "markdown",
   "id": "decfb466-b2a7-484c-a807-98451750d06d",
   "metadata": {},
   "source": [
    "##### Landlord card"
   ]
  },
  {
   "cell_type": "code",
   "execution_count": 28,
   "id": "8a3cad36-ef6a-4d04-8c35-6569ca50f770",
   "metadata": {},
   "outputs": [
    {
     "data": {
      "text/plain": [
       "{'Female, 40+ years old': True, 'Professional': True, 'Has pets': True}"
      ]
     },
     "execution_count": 28,
     "metadata": {},
     "output_type": "execute_result"
    }
   ],
   "source": [
    "card = find_by_id (offer, tags_ids[3])\n",
    "items = get_items (driver, card)\n",
    "items"
   ]
  },
  {
   "cell_type": "markdown",
   "id": "c7d811db-f90e-46d4-91a8-41239b66f152",
   "metadata": {},
   "source": [
    "##### Bedroom card"
   ]
  },
  {
   "cell_type": "code",
   "execution_count": 29,
   "id": "5af077f7-acb7-408f-8540-cd4c0f1beabc",
   "metadata": {},
   "outputs": [
    {
     "data": {
      "text/plain": [
       "{'1 Double bed': True,\n",
       " 'Bedroom area 15m 2': True,\n",
       " 'Wardrobe': True,\n",
       " 'Chest of drawers': True,\n",
       " 'Desk': True,\n",
       " 'Chairs': True,\n",
       " 'Towels': True,\n",
       " 'Bed linen': True,\n",
       " 'Window': True,\n",
       " 'Sofa': False,\n",
       " 'Sofa bed': False,\n",
       " 'Balcony': False,\n",
       " 'Tv': False,\n",
       " 'Door lock': False}"
      ]
     },
     "execution_count": 29,
     "metadata": {},
     "output_type": "execute_result"
    }
   ],
   "source": [
    "card = find_by_id (offer, tags_ids[4])\n",
    "items = get_items (driver, card)\n",
    "items"
   ]
  },
  {
   "cell_type": "markdown",
   "id": "1e553f89-7a8f-489e-b022-3850345ffab2",
   "metadata": {},
   "source": [
    "#### Place card \n",
    "\n",
    "The description is usually in portuguese. We will first click the on the translate button and also check for a \"see more\" button.\n",
    "\n",
    "Then we have to find which button is selected (ideally 'Apartment'), extract the icon labels and if they are 'off' (the same as 'dimmed') or not, and click on the arrows until we complete a lap.\n",
    "\n",
    "We need to do the following:\n",
    "1. Find the card field. It is a class named 'unit-navigation-wrapper'.\n",
    "2. Find and extract text the active button. Its the second one from class 'unit-navigation__labels'.\n",
    "3. Click + button if it exists\n",
    "4. Find feature field. It is a class named 'unit-navigation__features'.\n",
    "5. Get icon labels and check if they have 'off'. Each 3rd div tag contains both aspects.\n",
    "6. Put all features in a dictionary per icon label. be careful because some may be repeated."
   ]
  },
  {
   "cell_type": "code",
   "execution_count": 30,
   "id": "e6b72760-e8e4-4b68-9bcd-1d36f96cb2ee",
   "metadata": {},
   "outputs": [],
   "source": [
    "card = find_by_id (offer, tags_ids[5])"
   ]
  },
  {
   "cell_type": "markdown",
   "id": "cf58b1c4-c372-4130-b972-b970d015f296",
   "metadata": {},
   "source": [
    "##### Description"
   ]
  },
  {
   "cell_type": "code",
   "execution_count": 31,
   "id": "2e11c014-c00e-4ec5-9e83-53289202b3f1",
   "metadata": {},
   "outputs": [],
   "source": [
    "def get_place_descr (driver, section, button_translate = 'toggle-description',\n",
    "                     button_more = \"truncate-multiline--button\", \n",
    "                     clas = 'apartment-details__description--truncate'):\n",
    "    \n",
    "    section.location_once_scrolled_into_view\n",
    "\n",
    "    button = find_by_class_el (section, button_translate)\n",
    "    if type(button) != str and 'translated' in button.text.lower(): # not in english\n",
    "        button.click()\n",
    "    \n",
    "    click_if (driver, section, button_more)\n",
    "    time.sleep(1)\n",
    "    description = find_by_class_el (section, clas)\n",
    "    \n",
    "    return {\"place_description\" : description.text.replace('\\nSee less', '')}"
   ]
  },
  {
   "cell_type": "code",
   "execution_count": 32,
   "id": "4c091905-a461-4c63-8cfe-599f9e48f6fc",
   "metadata": {},
   "outputs": [
    {
     "data": {
      "text/plain": [
       "{'place_description': \"If you're looking for an apartment in Lisbon thats in a residential area, but well-connected and in the city centre, then check out this flat located in Intendente. The accommodation has a total of three bedrooms, a living room, a kitchen and two common bathrooms. The apartment is also close to Instituto Superior Técnico If you want to know more about this neighbourhood please click on the Discover more about Intendente in the map section below!\"}"
      ]
     },
     "execution_count": 32,
     "metadata": {},
     "output_type": "execute_result"
    }
   ],
   "source": [
    "description = get_place_descr (driver, card)\n",
    "description"
   ]
  },
  {
   "cell_type": "markdown",
   "id": "bd0d6cc5-ab9c-4713-8167-eb68e19bd859",
   "metadata": {},
   "source": [
    "##### Features "
   ]
  },
  {
   "cell_type": "code",
   "execution_count": 33,
   "id": "b9ced160-e2a0-453c-9191-455789ab0eba",
   "metadata": {},
   "outputs": [],
   "source": [
    "def find_active_item (lst, attr):\n",
    "    for item in lst:\n",
    "        if \"active\" in item.get_attribute(attr):\n",
    "            return item\n",
    "\n",
    "def get_active_place_label (driver, section,  el = 'unit-navigation__labels', xpath = 'div',\n",
    "                       attr = 'class', button_more = 'unit-navigation__features__show-more'):\n",
    "    \n",
    "    click_if (driver, section, button_more)\n",
    "\n",
    "    labels = find_by_class_el (section, el)\n",
    "    lst_labels = find_by_xpath (labels, xpath)\n",
    "    active_item = find_active_item (lst_labels, attr)    \n",
    "    \n",
    "    return active_item.text\n",
    "\n",
    "def get_features (section, el = 'unit-navigation__features', keyword='off', attr='class'):\n",
    "    \n",
    "    clas_features = find_by_class_el (section, el)\n",
    "    lst_features = find_by_tag(clas_features, 'div')\n",
    "    lst_features = lst_features[2::3]\n",
    "    \n",
    "    items_exist = [keyword not in item.get_attribute(attr) for item in lst_features]\n",
    "    items_text = [x.text for x in lst_features]\n",
    "\n",
    "    items_exist_dct = dict(zip(items_text, items_exist))\n",
    "    \n",
    "    return items_exist_dct"
   ]
  },
  {
   "cell_type": "code",
   "execution_count": 34,
   "id": "ea58ee9f-ed52-4a2e-b725-1d62e47d7c84",
   "metadata": {},
   "outputs": [],
   "source": [
    "def get_all_features (driver, section, start = 'Apartment', \n",
    "                      max_it = 20, button_arrow = \"unit-navigation__arrow\"):\n",
    "    \n",
    "    section.location_once_scrolled_into_view\n",
    "\n",
    "    all_features = {}\n",
    "    actives = []\n",
    "    \n",
    "    #we want to start with \"Apartment\" as active\n",
    "    active = get_active_place_label (driver, section)\n",
    "    it = 0\n",
    "        \n",
    "    while start not in active:\n",
    "        button = find_by_class_el (section, button_arrow)\n",
    "        print(button)\n",
    "        if button == \"Does not exist\":\n",
    "            return {}        \n",
    "        driver.execute_script(\"arguments[0].click();\", button)\n",
    "        active = get_active_place_label (driver, section)\n",
    "        it = it + 1\n",
    "        if it == max_it:\n",
    "            return {}\n",
    "    active_features = get_features (section)\n",
    "    actives.append(active)\n",
    "    active = active + \"_\" + str(actives.count(active)-1)\n",
    "    all_features[active] = active_features\n",
    "    \n",
    "    button = find_by_class_el (section, button_arrow)\n",
    "    if button == \"Does not exist\":\n",
    "        return all_features\n",
    "\n",
    "    driver.execute_script(\"arguments[0].click();\", button)\n",
    "    \n",
    "    active = get_active_place_label (driver, section)\n",
    "    \n",
    "    while start not in active:\n",
    "        \n",
    "        active_features = get_features (section)\n",
    "        actives.append(active)\n",
    "        active = active + \"_\" + str(actives.count(active)-1)\n",
    "        all_features[active] = active_features    \n",
    "        \n",
    "        button = find_by_class_el (section, button_arrow)\n",
    "        driver.execute_script(\"arguments[0].click();\", button)\n",
    "        \n",
    "        active = get_active_place_label (driver, section)\n",
    "\n",
    "    return all_features   "
   ]
  },
  {
   "cell_type": "markdown",
   "id": "bf8cfaa1-f41e-4e72-a53d-7082fda761ac",
   "metadata": {},
   "source": [
    "The previous function is not the best because it uses other function with predefined args and does not give the option to change them. However, we will keep the function like this for now."
   ]
  },
  {
   "cell_type": "code",
   "execution_count": 35,
   "id": "4548b1b0-3816-4bb3-904e-1b2b095bf52b",
   "metadata": {},
   "outputs": [
    {
     "data": {
      "text/plain": [
       "{'Apartment_0': {'Floor plan - 180 m2': True,\n",
       "  'Wi-Fi': True,\n",
       "  'Cable Tv': True,\n",
       "  'Towels & bed linen': True,\n",
       "  'Accessibility': False,\n",
       "  'Central heating': False,\n",
       "  'Air conditioning': False,\n",
       "  'Outdoor area': False,\n",
       "  'Elevator': False},\n",
       " 'WC_0': {'Toilet': True, 'Sink': True, 'Window': False},\n",
       " 'Bathroom_0': {'Window': True,\n",
       "  'Toilet': True,\n",
       "  'Sink': True,\n",
       "  'Bathtub': True,\n",
       "  'Shower': False},\n",
       " 'Kitchen_0': {'Floor plan - 20 m2': True,\n",
       "  'Chairs': True,\n",
       "  'Window': True,\n",
       "  'Fridge': True,\n",
       "  'Freezer': True,\n",
       "  'Stove': True,\n",
       "  'Oven': True,\n",
       "  'Washing machine': True,\n",
       "  'Dishes & cutlery': True,\n",
       "  'Pots & pans': True,\n",
       "  'Table': True,\n",
       "  'Balcony': False,\n",
       "  'Microwave': False,\n",
       "  'Dryer': False,\n",
       "  'Dishwasher': False},\n",
       " 'Living room_0': {'Floor plan - 48 m2': True,\n",
       "  'Chairs': True,\n",
       "  'Sofa': True,\n",
       "  'Window': True,\n",
       "  'Coffee table': True,\n",
       "  'Tv': True,\n",
       "  'Desk': False,\n",
       "  'Sofa bed': False,\n",
       "  'Balcony': False,\n",
       "  'Table': False}}"
      ]
     },
     "execution_count": 35,
     "metadata": {},
     "output_type": "execute_result"
    }
   ],
   "source": [
    "all_features = get_all_features (driver, card)\n",
    "all_features"
   ]
  },
  {
   "cell_type": "markdown",
   "id": "ffaecb9b-5bf6-4844-8d54-d3fc571e1ab5",
   "metadata": {},
   "source": [
    "#### Rental card "
   ]
  },
  {
   "cell_type": "markdown",
   "id": "873546cd-02f7-4a67-8fab-1fe77e62a574",
   "metadata": {},
   "source": [
    "Rental data is inside \"rental-conditions__row\" classes (one for each row)."
   ]
  },
  {
   "cell_type": "code",
   "execution_count": 36,
   "id": "bf7ac2f0-a39c-4f73-a5c3-c38e8b7ad3fd",
   "metadata": {},
   "outputs": [],
   "source": [
    "def get_rental_features (section, el = \"rental-conditions__row\", xpath = 'div',\n",
    "                         split = \"\\n\"):\n",
    "    \n",
    "    section.location_once_scrolled_into_view\n",
    "    lst_clas = find_by_class_els (section, el)\n",
    "\n",
    "    dictionary = {}\n",
    "\n",
    "    for clas in lst_clas:\n",
    "        features = find_by_xpath(clas, xpath) # only direct children\n",
    "        for feature in features:\n",
    "            f = feature.text.split(split)\n",
    "            dictionary[f[0]] = f[1]\n",
    "\n",
    "    return dictionary"
   ]
  },
  {
   "cell_type": "code",
   "execution_count": 37,
   "id": "e7110d01-f56a-4353-8ef3-8fdc95914871",
   "metadata": {},
   "outputs": [
    {
     "data": {
      "text/plain": [
       "{'Contract': 'Fortnightly',\n",
       " 'Bills': 'Some included',\n",
       " 'Cancellation policy': 'Moderate',\n",
       " 'Security deposit': 'Equal to first rent',\n",
       " 'Cleaning Frequency': 'None',\n",
       " 'Minimum stay': '27 nights'}"
      ]
     },
     "execution_count": 37,
     "metadata": {},
     "output_type": "execute_result"
    }
   ],
   "source": [
    "card = find_by_id (offer, tags_ids[6])\n",
    "rental_features = get_rental_features (card)\n",
    "rental_features"
   ]
  },
  {
   "cell_type": "markdown",
   "id": "92ea94b9-cffc-4214-976c-65239ce9f423",
   "metadata": {},
   "source": [
    "#### About the landlord card"
   ]
  },
  {
   "cell_type": "code",
   "execution_count": 38,
   "id": "cf18dc27-c11e-46b9-85cb-36d217fbe506",
   "metadata": {},
   "outputs": [],
   "source": [
    "def about_landlord_card (section, el = \"about-landlord__item\"):\n",
    "    \n",
    "    section.location_once_scrolled_into_view\n",
    "    lst_items = find_by_class_els (section, el)\n",
    "\n",
    "    tmp = [x.text.split(\"\\n\") for x in lst_items[:1]][0]\n",
    "    \n",
    "    values = [tmp[0]] + [tmp[2]] + [x.text for x in lst_items[1:]]\n",
    "    \n",
    "    if len(tmp) >= 3:\n",
    "        values = values + [True]\n",
    "    else: \n",
    "        values = values + [False]\n",
    "    keys = [\"type_landlord\", \"join_date\", \"reply_in\", \"reply_rate\", \"n_hosted\", \"trusted\"]\n",
    "    \n",
    "    return dict(zip(keys, values))"
   ]
  },
  {
   "cell_type": "code",
   "execution_count": 39,
   "id": "dae9d6eb-9014-4aac-bd1c-c7c36ca5c0a5",
   "metadata": {},
   "outputs": [
    {
     "data": {
      "text/plain": [
       "{'type_landlord': 'Homeowner',\n",
       " 'join_date': 'Joined Uniplaces on May, 2017',\n",
       " 'reply_in': 'Usually replies in a few minutes',\n",
       " 'reply_rate': 'Response rate is 100%',\n",
       " 'n_hosted': 'Hosted 11 people',\n",
       " 'trusted': True}"
      ]
     },
     "execution_count": 39,
     "metadata": {},
     "output_type": "execute_result"
    }
   ],
   "source": [
    "card = find_by_id (offer, tags_ids[7])\n",
    "about_landlord_card (card)"
   ]
  },
  {
   "cell_type": "markdown",
   "id": "90421e20-c695-4bca-aec4-a12f540eb98d",
   "metadata": {},
   "source": [
    "#### Reviews card\n",
    "\n",
    "We will do the following to get the rating:\n",
    "1. Find classes 'reviews__main__item' and get their 'reviews__main__item__title'\n",
    "3. Find tags path\n",
    "4. Count the number of fill='#F6A623' in tags (this are yellow stars)\n",
    "5. Count the number of path tags: if five there are no half stars; elif six, the last is a half star.\n",
    "\n",
    "Then for the details:\n",
    "1. Use click_if function\n",
    "2. In each 'reviews__main__item' find all 'reviews-details__item' and get their text\n",
    "3. Find tags path\n",
    "4. Count the number of fill='#F6A623' in tags (this are yellow stars)\n",
    "5. Count the number of path tags: if five there are no half stars; elif six, the last is a half star.\n",
    "\n",
    "We will not use written reviews.\n"
   ]
  },
  {
   "cell_type": "code",
   "execution_count": 40,
   "id": "f33b773e-b0bf-4c8e-952c-57d4c40f171a",
   "metadata": {},
   "outputs": [],
   "source": [
    "def count_stars (lst_items, tag = 'path', yellow = '#F6A623'):\n",
    "    counts = []\n",
    "    names = []\n",
    "    for item in lst_items:\n",
    "        names.append(re.split(r'( \\d+)', item.text)[0])\n",
    "        tags = find_by_tag(item, 'path')\n",
    "        count = 0\n",
    "        for tag in tags:\n",
    "            if tag.get_attribute('fill') == yellow:\n",
    "                count = count + 1\n",
    "        if len(tags) == 6: #(the last is a half star)\n",
    "            count = count - 0.5\n",
    "        counts.append(count)\n",
    "        \n",
    "    return dict(zip(names, counts))\n",
    "\n",
    "def rating_details (section, el_main = 'reviews__main__item', \n",
    "                    el_det = 'reviews-details__item', button = 'reviews__main__button'):\n",
    "    \n",
    "    section.location_once_scrolled_into_view\n",
    "    lst_main = find_by_class_els(card, el_main)\n",
    "    dict_main = count_stars (lst_main)\n",
    "    click_if(driver, section, button)\n",
    "    lst_det = find_by_class_els(card, el_det)\n",
    "    \n",
    "    return {**dict_main, **count_stars (lst_det)}"
   ]
  },
  {
   "cell_type": "code",
   "execution_count": 41,
   "id": "1b4f8d5e-83ee-4532-8ea0-0934261b888b",
   "metadata": {},
   "outputs": [
    {
     "data": {
      "text/plain": [
       "{'This room': 5,\n",
       " 'This place': 5,\n",
       " 'The landlord': 5,\n",
       " 'Room': 5,\n",
       " 'Listing accuracy': 5,\n",
       " 'Value for money': 5,\n",
       " 'Location': 5,\n",
       " 'Common areas': 5,\n",
       " 'Communication': 5,\n",
       " 'Availability': 5}"
      ]
     },
     "execution_count": 41,
     "metadata": {},
     "output_type": "execute_result"
    }
   ],
   "source": [
    "card = find_by_id (offer, tags_ids[8])\n",
    "reviews_details = rating_details (card)\n",
    "reviews_details"
   ]
  },
  {
   "cell_type": "markdown",
   "id": "154cb933-d4df-42ed-96d5-36e480cd7e0a",
   "metadata": {},
   "source": [
    "#### Neighborhood card"
   ]
  },
  {
   "cell_type": "code",
   "execution_count": 42,
   "id": "634157b5-3797-447c-9a5a-3e964ddb50af",
   "metadata": {},
   "outputs": [],
   "source": [
    "def get_neighborhood (section, el = \"neighbourhood__image__content__title\"):\n",
    "    section.location_once_scrolled_into_view\n",
    "    value = find_by_class_el (section, el)\n",
    "    if value == \"Does not exist\":\n",
    "        return {'neighboorhood' : 'Unknown'}\n",
    "    return {'neighboorhood' : value.text}"
   ]
  },
  {
   "cell_type": "code",
   "execution_count": 43,
   "id": "d8a4f051-521f-4f7d-a0c7-dda292da54e0",
   "metadata": {},
   "outputs": [
    {
     "data": {
      "text/plain": [
       "{'neighboorhood': 'Intendente'}"
      ]
     },
     "execution_count": 43,
     "metadata": {},
     "output_type": "execute_result"
    }
   ],
   "source": [
    "card = find_by_id (offer, tags_ids[9])\n",
    "get_neighborhood (card)"
   ]
  },
  {
   "cell_type": "markdown",
   "id": "2c78361c-1b32-4fda-ba76-5152abe3a33c",
   "metadata": {},
   "source": [
    "#### Similar places card"
   ]
  },
  {
   "cell_type": "code",
   "execution_count": 44,
   "id": "c0643b1c-d153-43dd-b285-c70e748d1560",
   "metadata": {},
   "outputs": [],
   "source": [
    "def get_n_similar (section, el=\"recommendations__wrapper\", tag=\"a\"):\n",
    "    section.location_once_scrolled_into_view\n",
    "    wrapper = find_by_class_el (section, el)\n",
    "    return {\"n_similar\" : len(find_by_tag(wrapper, tag))}"
   ]
  },
  {
   "cell_type": "code",
   "execution_count": 45,
   "id": "37b7917f-26d7-4592-8865-cce9735be516",
   "metadata": {},
   "outputs": [
    {
     "data": {
      "text/plain": [
       "{'n_similar': 5}"
      ]
     },
     "execution_count": 45,
     "metadata": {},
     "output_type": "execute_result"
    }
   ],
   "source": [
    "card = find_by_id (offer, tags_ids[10])\n",
    "get_n_similar (card)"
   ]
  },
  {
   "cell_type": "markdown",
   "id": "fe253c4e-aed8-4296-939d-ae6ebbaab5e6",
   "metadata": {},
   "source": [
    "## Gather data from listing (All steps)\n",
    "\n",
    "We need to create a function to extract data from all data fiels. This could also be done with pipelines, but I find functions more readable.\n",
    "\n",
    "We will not get the information in the \"about the landlord\", \"reviews\" and \"n_similar\" because it was taking too long, and this data is not particularly interesting."
   ]
  },
  {
   "cell_type": "code",
   "execution_count": 46,
   "id": "25ecfbb0-e092-4c13-96ec-d7c774bfe8a6",
   "metadata": {},
   "outputs": [],
   "source": [
    "def get_all_listing (driver, el=\"offer-page__container\", xpath = \"div\", attr=\"id\"):\n",
    "    \n",
    "    offer = find_by_class_el (driver, el)\n",
    "    tags = find_by_xpath(offer, xpath) #this way we get only direct children\n",
    "\n",
    "    tags_ids = [tag.get_attribute(attr) for tag in tags]\n",
    "    \n",
    "    dictionary = {}\n",
    "    \n",
    "    # overview\n",
    "    card = find_by_id (offer, tags_ids[0])\n",
    "    dictionary = {**dictionary, **get_overview(card)}\n",
    "    print(\"Got field 1.\")\n",
    "    \n",
    "    # price, availability, and url\n",
    "    card = find_by_id (offer, tags_ids[1])\n",
    "    dictionary = {**dictionary, **get_price_avail_data(card)}\n",
    "    print(\"Got field 2.\")\n",
    "\n",
    "    # rules\n",
    "    card = find_by_id (offer, tags_ids[2])\n",
    "    dictionary = {**dictionary, **get_items(driver, card)}\n",
    "    print(\"Got field 3.\")\n",
    "    \n",
    "    # landlord aspects\n",
    "    card = find_by_id (offer, tags_ids[3])\n",
    "    dictionary = {**dictionary, **get_items(driver, card)}\n",
    "    print(\"Got field 4.\")\n",
    "    \n",
    "    # bedroom aspects\n",
    "    card = find_by_id (offer, tags_ids[4])\n",
    "    dictionary = {**dictionary, **get_items(driver, card)}\n",
    "    print(\"Got field 5.\")\n",
    "    \n",
    "    # place \n",
    "    card = find_by_id (offer, tags_ids[5])\n",
    "    #dictionary = {**dictionary, **get_place_descr(driver, card)} #it takes too long\n",
    "    place_features = get_all_features (driver, card)\n",
    "    print(\"Got field 6.\")\n",
    "\n",
    "    # rental \n",
    "    card = find_by_id (offer, tags_ids[6])\n",
    "    dictionary = {**dictionary, **get_rental_features(card)}\n",
    "    print(\"Got field 7.\")\n",
    "    \n",
    "    # about the landlord\n",
    "    #card = find_by_id (offer, tags_ids[7])\n",
    "    #dictionary = {**dictionary, **about_landlord_card(card)}\n",
    "    \n",
    "    # reviews\n",
    "    #card = find_by_id (offer, tags_ids[8])\n",
    "    #dictionary = {**dictionary, **rating_details(card)}\n",
    "\n",
    "    # neighborhood\n",
    "    card = find_by_id (offer, tags_ids[9])\n",
    "    dictionary = {**dictionary, **get_neighborhood(card)}\n",
    "    \n",
    "    # n similar places\n",
    "    #card = find_by_id (offer, tags_ids[10])\n",
    "    #dictionary = {**dictionary, **get_n_similar(card)}\n",
    "    \n",
    "    return dictionary, place_features"
   ]
  },
  {
   "cell_type": "markdown",
   "id": "45d4f18e-e6d9-42ea-9870-5eecca6a907a",
   "metadata": {},
   "source": [
    "### Join data"
   ]
  },
  {
   "cell_type": "code",
   "execution_count": 47,
   "id": "a83f16e0-2941-4c08-9584-01751f8445fb",
   "metadata": {},
   "outputs": [],
   "source": [
    "def get_freq (lst):\n",
    "    freq = {}\n",
    "    for item in lst:\n",
    "        item = item.split(\"_\")[0] + \"_\" + item.split(\"_\")[1]\n",
    "        if (item in freq):\n",
    "            freq[item] = freq[item] + 1\n",
    "        else:\n",
    "            freq[item] = 1\n",
    "    return freq"
   ]
  },
  {
   "cell_type": "code",
   "execution_count": 48,
   "id": "c739c403-7900-453d-a128-4d2613475dec",
   "metadata": {},
   "outputs": [],
   "source": [
    "def dicts_join (dict_main, dict_features):\n",
    "    \n",
    "    df = pd.DataFrame(dict_features)\n",
    "    \n",
    "    # drop Apartment and count rooms\n",
    "    col_rooms = [\"n_\" + col.split(\"_\")[0] + \"s\" for col in df.columns if \"partment\" not in col]\n",
    "    # join data\n",
    "    dict_main = {**dict_main, **get_freq (col_rooms)}\n",
    "   \n",
    "    df[\"sum\"] = df.sum(axis=1)\n",
    "    \n",
    "    cols_to_drop = [col for col in df.index if \"plan\" in col]\n",
    "    if cols_to_drop == True:\n",
    "        floor_plan = max([int(col.split(\"- \")[1].split(\" m2\")[0]) for col in cols_to_drop])\n",
    "        df = df.drop(cols_to_drop)\n",
    "        df.loc[\"Floor plan m2\", 0] = floor_plan\n",
    "        \n",
    "    df = df[\"sum\"].astype(int)\n",
    "    return {**dict_main, **df.to_dict()}"
   ]
  },
  {
   "cell_type": "markdown",
   "id": "1a91423f-f0a0-419b-8310-e2e3b209583c",
   "metadata": {},
   "source": [
    "## Gather data from all listings from page"
   ]
  },
  {
   "cell_type": "code",
   "execution_count": 49,
   "id": "51928c86-fd05-40e8-872f-d6002cf824ae",
   "metadata": {},
   "outputs": [],
   "source": [
    "lst_dicts = []\n",
    "\n",
    "def all_from_page (driver, listings):\n",
    "    c = 0\n",
    "    for listing in listings:\n",
    "        print(\"Listing {}\".format(c))\n",
    "        ad_handle = open_ad (driver, listing)\n",
    "        print(driver.title)\n",
    "        time.sleep(3)\n",
    "        dict_main, dict_features = get_all_listing (driver)\n",
    "\n",
    "        lst_dicts.append(dicts_join (dict_main, dict_features))\n",
    "\n",
    "        driver.close() \n",
    "        driver.switch_to.window(parent_handle)\n",
    "        c += 1\n",
    "    #return lst_dicts"
   ]
  },
  {
   "cell_type": "markdown",
   "id": "0020abd0-ae47-4c0c-9920-7d82f9aa5557",
   "metadata": {},
   "source": [
    "#### Go to next page"
   ]
  },
  {
   "cell_type": "code",
   "execution_count": 50,
   "id": "61a5fec9-255b-4059-b0e0-e7336949c9bb",
   "metadata": {},
   "outputs": [],
   "source": [
    "def go_next_page (driver, el = \"sc-hrWEMg\", tag = \"a\", attr1 = \"rel\", attr2 = \"href\"):\n",
    "    \n",
    "    driver.execute_script(\"window.scrollTo(0, document.body.scrollHeight);\") #to bottom\n",
    "    clas = find_by_class_el(driver, el)    \n",
    "    tags = find_by_tag(clas, tag)\n",
    "    \n",
    "    for tag in tags:\n",
    "        if tag.get_attribute(attr1) == \"next\":\n",
    "            if \"null\" not in tag.get_attribute(attr2):\n",
    "                tag.click()\n",
    "                return True\n",
    "            else:\n",
    "                return False # if it is the last"
   ]
  },
  {
   "cell_type": "markdown",
   "id": "38c96132-f9d9-43d6-a088-43158d041271",
   "metadata": {},
   "source": [
    "## Get data from all listings\n",
    "\n",
    "We will take the listings from the first 20 pages."
   ]
  },
  {
   "cell_type": "code",
   "execution_count": null,
   "id": "e82f6f87-64dd-4944-af73-26053c3ca659",
   "metadata": {},
   "outputs": [],
   "source": [
    "go_to_next = True\n",
    "\n",
    "c = 0\n",
    "n_pages = 20\n",
    "while go_to_next == True:\n",
    "    print(\"Page {}\".format(c))\n",
    "    if c > n_pages: # comment if needed\n",
    "        break # comment if needed\n",
    "    listings = fetch_listings(driver)\n",
    "    all_from_page (driver, listings)\n",
    "    go_to_next = go_next_page (driver)\n",
    "    time.sleep(3)\n",
    "    c = c + 1"
   ]
  },
  {
   "cell_type": "code",
   "execution_count": null,
   "id": "170eb625-fad3-4d1c-94f4-0e5f9db2c91c",
   "metadata": {},
   "outputs": [],
   "source": [
    "#df = pd.DataFrame(lst_dicts)\n",
    "#df.to_csv(\"scraped_data/all_scraping.csv\")"
   ]
  },
  {
   "cell_type": "markdown",
   "id": "802e4c38-42bf-4d8a-8093-ce623ad6a4cc",
   "metadata": {},
   "source": [
    "## Conclusions \n",
    "\n",
    "This was my first proper experience using Selenium. I think I learned the basics and maybe a little more, as Uniplaces heavily relies on javacript and even on cases where I could avoided it and use something like BeautifulSoup or string functions, I made an effort of using Selenium. \n",
    "\n",
    "I was able to consistently extract all the data from the listings.\n",
    "\n",
    "Still, there are a some of things that I would have done different:\n",
    "\n",
    "1. **Learn about WebDriverWait:** When I started I was not aware of the WebDriverWait function and its need. As a result, my code looks a bit \"sewn\" together. If I knew, I would have created generic functions before.\n",
    "2. **Learn about location and expections:** The same thing goes for location functions, which I found are only needed for some listings, and expections, particularly expected conditions.\n",
    "3. **Do generic functions sooner:** The cards of the listings are not that different. I would have created more generic functions. \n",
    "4. **Scrape random listings:** I noticed that the scrapping could lead to a high amount of variables and used some techniques to reduced. However, I was not very efficient, as I was not aware of for example, how some variables may have \"No photos\" substring. I could have scrapped random listings first to identify possible problems like this. Still, it is easier and faster to clean the dataframe than scrape the data again.\n",
    "5. **Learn to bypass request limits:** Fortunately, Uniplaces does not seem to limit the amount of requests made. If I do this again, I will look into how to bypass such limits (while not doing anything illegal).\n",
    "6. **Prepare for listings removed:** I would have prepare in case the listing was removed (this only happened once in all 20 pages). \n",
    "7. **Include name of card in key:** For example, \"student\" can be regarding the tenant or the landlord, and I did not account for that.\n",
    "\n",
    "The extraction of almost all the data from the listings led to a very complete, perhaps too complete, dataset. This is not uncommon, given that I did not have a problem/question in mind while acquiring data. As such, I scraped as much data as possible, which led to an overcomplicated dataset. \n",
    "But that is okay, case I get to show that I can clean a dataset!\n",
    "\n",
    "Overall, this notebook was a success."
   ]
  }
 ],
 "metadata": {
  "kernelspec": {
   "display_name": "Python 3 (ipykernel)",
   "language": "python",
   "name": "python3"
  },
  "language_info": {
   "codemirror_mode": {
    "name": "ipython",
    "version": 3
   },
   "file_extension": ".py",
   "mimetype": "text/x-python",
   "name": "python",
   "nbconvert_exporter": "python",
   "pygments_lexer": "ipython3",
   "version": "3.9.7"
  }
 },
 "nbformat": 4,
 "nbformat_minor": 5
}
